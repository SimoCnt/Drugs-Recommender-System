{
 "cells": [
  {
   "cell_type": "markdown",
   "metadata": {},
   "source": [
    "## 1. LIBRERIE E SETTAGGI"
   ]
  },
  {
   "cell_type": "code",
   "execution_count": 1,
   "metadata": {},
   "outputs": [],
   "source": [
    "from pyspark.sql import SparkSession\n",
    "from pyspark.sql.functions import *\n",
    "from pyspark.sql.types import *\n",
    "from pyspark.ml.evaluation import RegressionEvaluator\n",
    "from pyspark.ml.recommendation import ALS\n",
    "from pyspark.ml.tuning import TrainValidationSplit, ParamGridBuilder\n",
    "from pyspark.ml.feature import StringIndexer, IndexToString\n",
    "from pyspark.ml import Pipeline\n",
    "\n",
    "spark = SparkSession.builder.appName('Recommendation_system').getOrCreate()"
   ]
  },
  {
   "cell_type": "markdown",
   "metadata": {},
   "source": [
    "## 2. CREAZIONE E PULIZIA DEI DATAFRAME"
   ]
  },
  {
   "cell_type": "code",
   "execution_count": 2,
   "metadata": {},
   "outputs": [
    {
     "name": "stdout",
     "output_type": "stream",
     "text": [
      "+-----------+-------------------+-----------+----------+--------------------+\n",
      "|DrugBank ID|               Name|       Type|UniProt ID|        UniProt Name|\n",
      "+-----------+-------------------+-----------+----------+--------------------+\n",
      "|    DB00001|          Lepirudin|BiotechDrug|    P00734|         Prothrombin|\n",
      "|    DB00002|          Cetuximab|BiotechDrug|    P00533|Epidermal growth ...|\n",
      "|    DB00002|          Cetuximab|BiotechDrug|    O75015|Low affinity immu...|\n",
      "|    DB00002|          Cetuximab|BiotechDrug|    P00736|Complement C1r su...|\n",
      "|    DB00002|          Cetuximab|BiotechDrug|    P02745|Complement C1q su...|\n",
      "|    DB00002|          Cetuximab|BiotechDrug|    P02746|Complement C1q su...|\n",
      "|    DB00002|          Cetuximab|BiotechDrug|    P02747|Complement C1q su...|\n",
      "|    DB00002|          Cetuximab|BiotechDrug|    P08637|Low affinity immu...|\n",
      "|    DB00002|          Cetuximab|BiotechDrug|    P09871|Complement C1s su...|\n",
      "|    DB00002|          Cetuximab|BiotechDrug|    P12314|High affinity imm...|\n",
      "|    DB00002|          Cetuximab|BiotechDrug|    P12318|Low affinity immu...|\n",
      "|    DB00002|          Cetuximab|BiotechDrug|    P31994|Low affinity immu...|\n",
      "|    DB00002|          Cetuximab|BiotechDrug|    P31995|Low affinity immu...|\n",
      "|    DB00004|Denileukin diftitox|BiotechDrug|    P01589|Interleukin-2 rec...|\n",
      "|    DB00004|Denileukin diftitox|BiotechDrug|    P14784|Interleukin-2 rec...|\n",
      "|    DB00004|Denileukin diftitox|BiotechDrug|    P31785|Cytokine receptor...|\n",
      "|    DB00005|         Etanercept|BiotechDrug|    P01375|Tumor necrosis fa...|\n",
      "|    DB00005|         Etanercept|BiotechDrug|    P20333|Tumor necrosis fa...|\n",
      "|    DB00005|         Etanercept|BiotechDrug|    P12314|High affinity imm...|\n",
      "|    DB00005|         Etanercept|BiotechDrug|    P08637|Low affinity immu...|\n",
      "+-----------+-------------------+-----------+----------+--------------------+\n",
      "only showing top 20 rows\n",
      "\n"
     ]
    }
   ],
   "source": [
    "drugBankDF = spark.read.csv(\"DATA/uniprot links.csv\", header=True, inferSchema=True)\n",
    "drugBankDF.show()"
   ]
  },
  {
   "cell_type": "code",
   "execution_count": 3,
   "metadata": {},
   "outputs": [
    {
     "data": {
      "text/plain": [
       "20941"
      ]
     },
     "execution_count": 3,
     "metadata": {},
     "output_type": "execute_result"
    }
   ],
   "source": [
    "drugBankDF.count()"
   ]
  },
  {
   "cell_type": "code",
   "execution_count": 4,
   "metadata": {},
   "outputs": [
    {
     "name": "stdout",
     "output_type": "stream",
     "text": [
      "+-------------------+------------------+-----------------------+-----------------------+----------------------+----------------------+-------------------------------+-------------------------+-------------------------+--------------------+--------------------+--------------------+--------------------+-------------------------+-------------------+\n",
      "|#ID(s) interactor A|ID(s) interactor B|Alt. ID(s) interactor A|Alt. ID(s) interactor B|Alias(es) interactor A|Alias(es) interactor B|Interaction detection method(s)|Publication 1st author(s)|Publication Identifier(s)|  Taxid interactor A|  Taxid interactor B| Interaction type(s)|  Source database(s)|Interaction identifier(s)|Confidence value(s)|\n",
      "+-------------------+------------------+-----------------------+-----------------------+----------------------+----------------------+-------------------------------+-------------------------+-------------------------+--------------------+--------------------+--------------------+--------------------+-------------------------+-------------------+\n",
      "|   uniprotkb:P38764|  uniprotkb:P40016|   intact:EBI-15913|...|   intact:EBI-15927|...|  psi-mi:rpn1_yeast...|  psi-mi:rpn3_yeast...|           psi-mi:\"MI:0676\"(...|     Krogan et al. (2006)|     pubmed:16554755|i...|taxid:559292(yeas...|taxid:559292(yeas...|psi-mi:\"MI:0915\"(...|psi-mi:\"MI:0471\"(...|     intact:EBI-694186...|intact-miscore:0.76|\n",
      "|   uniprotkb:Q01939|  uniprotkb:P40016|   intact:EBI-13914|...|   intact:EBI-15927|...|  psi-mi:prs8_yeast...|  psi-mi:rpn3_yeast...|           psi-mi:\"MI:0676\"(...|     Krogan et al. (2006)|     pubmed:16554755|i...|taxid:559292(yeas...|taxid:559292(yeas...|psi-mi:\"MI:0915\"(...|psi-mi:\"MI:0471\"(...|     intact:EBI-694187...|intact-miscore:0.40|\n",
      "|   uniprotkb:P33299|  uniprotkb:P40016|   intact:EBI-13910|...|   intact:EBI-15927|...|  psi-mi:prs7_yeast...|  psi-mi:rpn3_yeast...|           psi-mi:\"MI:0676\"(...|     Krogan et al. (2006)|     pubmed:16554755|i...|taxid:559292(yeas...|taxid:559292(yeas...|psi-mi:\"MI:0915\"(...|psi-mi:\"MI:0471\"(...|     intact:EBI-694190...|intact-miscore:0.69|\n",
      "|   uniprotkb:Q06103|  uniprotkb:P40016|   intact:EBI-15940|...|   intact:EBI-15927|...|  psi-mi:rpn7_yeast...|  psi-mi:rpn3_yeast...|           psi-mi:\"MI:0676\"(...|     Krogan et al. (2006)|     pubmed:16554755|i...|taxid:559292(yeas...|taxid:559292(yeas...|psi-mi:\"MI:0915\"(...|psi-mi:\"MI:0471\"(...|     intact:EBI-694189...|intact-miscore:0.81|\n",
      "|   uniprotkb:P38764|  uniprotkb:P40016|   intact:EBI-15913|...|   intact:EBI-15927|...|  psi-mi:rpn1_yeast...|  psi-mi:rpn3_yeast...|           psi-mi:\"MI:0676\"(...|     Krogan et al. (2006)|     pubmed:16554755|i...|taxid:559292(yeas...|taxid:559292(yeas...|psi-mi:\"MI:0915\"(...|psi-mi:\"MI:0471\"(...|     intact:EBI-694192...|intact-miscore:0.76|\n",
      "|   uniprotkb:P40016|  uniprotkb:P38764|   intact:EBI-15927|...|   intact:EBI-15913|...|  psi-mi:rpn3_yeast...|  psi-mi:rpn1_yeast...|           psi-mi:\"MI:0676\"(...|     Krogan et al. (2006)|     pubmed:16554755|i...|taxid:559292(yeas...|taxid:559292(yeas...|psi-mi:\"MI:0915\"(...|psi-mi:\"MI:0471\"(...|     intact:EBI-694194...|intact-miscore:0.76|\n",
      "|   uniprotkb:P53549|  uniprotkb:P40016|   intact:EBI-18520|...|   intact:EBI-15927|...|  psi-mi:prs10_yeas...|  psi-mi:rpn3_yeast...|           psi-mi:\"MI:0676\"(...|     Krogan et al. (2006)|     pubmed:16554755|i...|taxid:559292(yeas...|taxid:559292(yeas...|psi-mi:\"MI:0915\"(...|psi-mi:\"MI:0471\"(...|     intact:EBI-694195...|intact-miscore:0.55|\n",
      "|   uniprotkb:P40016|  uniprotkb:Q08723|   intact:EBI-15927|...|   intact:EBI-36176|...|  psi-mi:rpn3_yeast...|  psi-mi:rpn8_yeast...|           psi-mi:\"MI:0676\"(...|     Krogan et al. (2006)|     pubmed:16554755|i...|taxid:559292(yeas...|taxid:559292(yeas...|psi-mi:\"MI:0915\"(...|psi-mi:\"MI:0471\"(...|     intact:EBI-694198...|intact-miscore:0.70|\n",
      "|   uniprotkb:Q08723|  uniprotkb:P40016|   intact:EBI-36176|...|   intact:EBI-15927|...|  psi-mi:rpn8_yeast...|  psi-mi:rpn3_yeast...|           psi-mi:\"MI:0676\"(...|     Krogan et al. (2006)|     pubmed:16554755|i...|taxid:559292(yeas...|taxid:559292(yeas...|psi-mi:\"MI:0915\"(...|psi-mi:\"MI:0471\"(...|     intact:EBI-694203...|intact-miscore:0.70|\n",
      "|   uniprotkb:P40016|  uniprotkb:P38886|   intact:EBI-15927|...|   intact:EBI-15949|...|  psi-mi:rpn3_yeast...|  psi-mi:rpn10_yeas...|           psi-mi:\"MI:0676\"(...|     Krogan et al. (2006)|     pubmed:16554755|i...|taxid:559292(yeas...|taxid:559292(yeas...|psi-mi:\"MI:0915\"(...|psi-mi:\"MI:0471\"(...|     intact:EBI-694207...|intact-miscore:0.76|\n",
      "|   uniprotkb:P40016|  uniprotkb:P43588|   intact:EBI-15927|...|   intact:EBI-11219|...|  psi-mi:rpn3_yeast...|  psi-mi:rpn11_yeas...|           psi-mi:\"MI:0676\"(...|     Krogan et al. (2006)|     pubmed:16554755|i...|taxid:559292(yeas...|taxid:559292(yeas...|psi-mi:\"MI:0915\"(...|psi-mi:\"MI:0471\"(...|     intact:EBI-694211...|intact-miscore:0.76|\n",
      "|   uniprotkb:P40016|  uniprotkb:P38764|   intact:EBI-15927|...|   intact:EBI-15913|...|  psi-mi:rpn3_yeast...|  psi-mi:rpn1_yeast...|           psi-mi:\"MI:0676\"(...|     Krogan et al. (2006)|     pubmed:16554755|i...|taxid:559292(yeas...|taxid:559292(yeas...|psi-mi:\"MI:0915\"(...|psi-mi:\"MI:0471\"(...|     intact:EBI-694222...|intact-miscore:0.76|\n",
      "|   uniprotkb:P40016|  uniprotkb:Q06103|   intact:EBI-15927|...|   intact:EBI-15940|...|  psi-mi:rpn3_yeast...|  psi-mi:rpn7_yeast...|           psi-mi:\"MI:0676\"(...|     Krogan et al. (2006)|     pubmed:16554755|i...|taxid:559292(yeas...|taxid:559292(yeas...|psi-mi:\"MI:0915\"(...|psi-mi:\"MI:0471\"(...|     intact:EBI-694218...|intact-miscore:0.81|\n",
      "|   uniprotkb:P53008|  uniprotkb:P40016|   intact:EBI-5323|u...|   intact:EBI-15927|...|  psi-mi:cwh41_yeas...|  psi-mi:rpn3_yeast...|           psi-mi:\"MI:0676\"(...|     Krogan et al. (2006)|     pubmed:16554755|i...|taxid:559292(yeas...|taxid:559292(yeas...|psi-mi:\"MI:0915\"(...|psi-mi:\"MI:0471\"(...|     intact:EBI-694226...|intact-miscore:0.40|\n",
      "|   uniprotkb:P32565|  uniprotkb:P40016|   intact:EBI-15919|...|   intact:EBI-15927|...|  psi-mi:rpn2_yeast...|  psi-mi:rpn3_yeast...|           psi-mi:\"MI:0676\"(...|     Krogan et al. (2006)|     pubmed:16554755|i...|taxid:559292(yeas...|taxid:559292(yeas...|psi-mi:\"MI:0915\"(...|psi-mi:\"MI:0471\"(...|     intact:EBI-694230...|intact-miscore:0.40|\n",
      "|   uniprotkb:P40016|  uniprotkb:P32565|   intact:EBI-15927|...|   intact:EBI-15919|...|  psi-mi:rpn3_yeast...|  psi-mi:rpn2_yeast...|           psi-mi:\"MI:0676\"(...|     Krogan et al. (2006)|     pubmed:16554755|i...|taxid:559292(yeas...|taxid:559292(yeas...|psi-mi:\"MI:0915\"(...|psi-mi:\"MI:0471\"(...|     intact:EBI-694238...|intact-miscore:0.40|\n",
      "|   uniprotkb:P38764|  uniprotkb:P40016|   intact:EBI-15913|...|   intact:EBI-15927|...|  psi-mi:rpn1_yeast...|  psi-mi:rpn3_yeast...|           psi-mi:\"MI:0676\"(...|     Krogan et al. (2006)|     pubmed:16554755|i...|taxid:559292(yeas...|taxid:559292(yeas...|psi-mi:\"MI:0915\"(...|psi-mi:\"MI:0471\"(...|     intact:EBI-694245...|intact-miscore:0.76|\n",
      "|   uniprotkb:P53549|  uniprotkb:P40016|   intact:EBI-18520|...|   intact:EBI-15927|...|  psi-mi:prs10_yeas...|  psi-mi:rpn3_yeast...|           psi-mi:\"MI:0676\"(...|     Krogan et al. (2006)|     pubmed:16554755|i...|taxid:559292(yeas...|taxid:559292(yeas...|psi-mi:\"MI:0915\"(...|psi-mi:\"MI:0471\"(...|     intact:EBI-694242...|intact-miscore:0.55|\n",
      "|   uniprotkb:P40016|  uniprotkb:P38764|   intact:EBI-15927|...|   intact:EBI-15913|...|  psi-mi:rpn3_yeast...|  psi-mi:rpn1_yeast...|           psi-mi:\"MI:0676\"(...|     Krogan et al. (2006)|     pubmed:16554755|i...|taxid:559292(yeas...|taxid:559292(yeas...|psi-mi:\"MI:0915\"(...|psi-mi:\"MI:0471\"(...|     intact:EBI-694251...|intact-miscore:0.76|\n",
      "|   uniprotkb:Q08723|  uniprotkb:P40016|   intact:EBI-36176|...|   intact:EBI-15927|...|  psi-mi:rpn8_yeast...|  psi-mi:rpn3_yeast...|           psi-mi:\"MI:0676\"(...|     Krogan et al. (2006)|     pubmed:16554755|i...|taxid:559292(yeas...|taxid:559292(yeas...|psi-mi:\"MI:0915\"(...|psi-mi:\"MI:0471\"(...|     intact:EBI-694256...|intact-miscore:0.70|\n",
      "+-------------------+------------------+-----------------------+-----------------------+----------------------+----------------------+-------------------------------+-------------------------+-------------------------+--------------------+--------------------+--------------------+--------------------+-------------------------+-------------------+\n",
      "only showing top 20 rows\n",
      "\n"
     ]
    }
   ],
   "source": [
    "ppiDF = spark.read.csv(\"DATA/species_13.csv\", header=True, inferSchema=True, sep='\\t')\n",
    "ppiDF.show()"
   ]
  },
  {
   "cell_type": "code",
   "execution_count": 5,
   "metadata": {},
   "outputs": [
    {
     "data": {
      "text/plain": [
       "1054920"
      ]
     },
     "execution_count": 5,
     "metadata": {},
     "output_type": "execute_result"
    }
   ],
   "source": [
    "ppiDF.count()"
   ]
  },
  {
   "cell_type": "markdown",
   "metadata": {},
   "source": [
    "Selezione delle colonne utili del DataFrame drugBankDF"
   ]
  },
  {
   "cell_type": "code",
   "execution_count": 6,
   "metadata": {},
   "outputs": [
    {
     "name": "stdout",
     "output_type": "stream",
     "text": [
      "+-----------+----------+\n",
      "|DrugBank ID|UniProt ID|\n",
      "+-----------+----------+\n",
      "|    DB00001|    P00734|\n",
      "|    DB00002|    P00533|\n",
      "|    DB00002|    O75015|\n",
      "|    DB00002|    P00736|\n",
      "|    DB00002|    P02745|\n",
      "|    DB00002|    P02746|\n",
      "|    DB00002|    P02747|\n",
      "|    DB00002|    P08637|\n",
      "|    DB00002|    P09871|\n",
      "|    DB00002|    P12314|\n",
      "|    DB00002|    P12318|\n",
      "|    DB00002|    P31994|\n",
      "|    DB00002|    P31995|\n",
      "|    DB00004|    P01589|\n",
      "|    DB00004|    P14784|\n",
      "|    DB00004|    P31785|\n",
      "|    DB00005|    P01375|\n",
      "|    DB00005|    P20333|\n",
      "|    DB00005|    P12314|\n",
      "|    DB00005|    P08637|\n",
      "+-----------+----------+\n",
      "only showing top 20 rows\n",
      "\n"
     ]
    }
   ],
   "source": [
    "drugBankDF = drugBankDF.select(drugBankDF[\"DrugBank ID\"], drugBankDF[\"UniProt ID\"])\n",
    "drugBankDF.show()"
   ]
  },
  {
   "cell_type": "markdown",
   "metadata": {},
   "source": [
    "Selezione delle colonne utili del DataFrame ppiDF"
   ]
  },
  {
   "cell_type": "code",
   "execution_count": 7,
   "metadata": {},
   "outputs": [
    {
     "name": "stdout",
     "output_type": "stream",
     "text": [
      "+-------------------+------------------+-------------------+\n",
      "|#ID(s) interactor A|ID(s) interactor B|Confidence value(s)|\n",
      "+-------------------+------------------+-------------------+\n",
      "|   uniprotkb:P38764|  uniprotkb:P40016|intact-miscore:0.76|\n",
      "|   uniprotkb:Q01939|  uniprotkb:P40016|intact-miscore:0.40|\n",
      "|   uniprotkb:P33299|  uniprotkb:P40016|intact-miscore:0.69|\n",
      "|   uniprotkb:Q06103|  uniprotkb:P40016|intact-miscore:0.81|\n",
      "|   uniprotkb:P38764|  uniprotkb:P40016|intact-miscore:0.76|\n",
      "|   uniprotkb:P40016|  uniprotkb:P38764|intact-miscore:0.76|\n",
      "|   uniprotkb:P53549|  uniprotkb:P40016|intact-miscore:0.55|\n",
      "|   uniprotkb:P40016|  uniprotkb:Q08723|intact-miscore:0.70|\n",
      "|   uniprotkb:Q08723|  uniprotkb:P40016|intact-miscore:0.70|\n",
      "|   uniprotkb:P40016|  uniprotkb:P38886|intact-miscore:0.76|\n",
      "|   uniprotkb:P40016|  uniprotkb:P43588|intact-miscore:0.76|\n",
      "|   uniprotkb:P40016|  uniprotkb:P38764|intact-miscore:0.76|\n",
      "|   uniprotkb:P40016|  uniprotkb:Q06103|intact-miscore:0.81|\n",
      "|   uniprotkb:P53008|  uniprotkb:P40016|intact-miscore:0.40|\n",
      "|   uniprotkb:P32565|  uniprotkb:P40016|intact-miscore:0.40|\n",
      "|   uniprotkb:P40016|  uniprotkb:P32565|intact-miscore:0.40|\n",
      "|   uniprotkb:P38764|  uniprotkb:P40016|intact-miscore:0.76|\n",
      "|   uniprotkb:P53549|  uniprotkb:P40016|intact-miscore:0.55|\n",
      "|   uniprotkb:P40016|  uniprotkb:P38764|intact-miscore:0.76|\n",
      "|   uniprotkb:Q08723|  uniprotkb:P40016|intact-miscore:0.70|\n",
      "+-------------------+------------------+-------------------+\n",
      "only showing top 20 rows\n",
      "\n"
     ]
    }
   ],
   "source": [
    "ppiDF = ppiDF.select(ppiDF['#ID(s) interactor A'], ppiDF['ID(s) interactor B'], ppiDF['Confidence value(s)'])\n",
    "ppiDF.show()"
   ]
  },
  {
   "cell_type": "markdown",
   "metadata": {},
   "source": [
    "Pulizia dei record del DataFrame ppiDF"
   ]
  },
  {
   "cell_type": "code",
   "execution_count": 8,
   "metadata": {},
   "outputs": [
    {
     "name": "stdout",
     "output_type": "stream",
     "text": [
      "+-------------------+------------------+-------------------+\n",
      "|#ID(s) interactor A|ID(s) interactor B|Confidence value(s)|\n",
      "+-------------------+------------------+-------------------+\n",
      "|             P38764|            P40016|               0.76|\n",
      "|             Q01939|            P40016|               0.40|\n",
      "|             P33299|            P40016|               0.69|\n",
      "|             Q06103|            P40016|               0.81|\n",
      "|             P38764|            P40016|               0.76|\n",
      "|             P40016|            P38764|               0.76|\n",
      "|             P53549|            P40016|               0.55|\n",
      "|             P40016|            Q08723|               0.70|\n",
      "|             Q08723|            P40016|               0.70|\n",
      "|             P40016|            P38886|               0.76|\n",
      "|             P40016|            P43588|               0.76|\n",
      "|             P40016|            P38764|               0.76|\n",
      "|             P40016|            Q06103|               0.81|\n",
      "|             P53008|            P40016|               0.40|\n",
      "|             P32565|            P40016|               0.40|\n",
      "|             P40016|            P32565|               0.40|\n",
      "|             P38764|            P40016|               0.76|\n",
      "|             P53549|            P40016|               0.55|\n",
      "|             P40016|            P38764|               0.76|\n",
      "|             Q08723|            P40016|               0.70|\n",
      "+-------------------+------------------+-------------------+\n",
      "only showing top 20 rows\n",
      "\n"
     ]
    }
   ],
   "source": [
    "ppiDF = ppiDF.withColumn('#ID(s) interactor A', regexp_replace('#ID(s) interactor A', 'uniprotkb:', ''))\n",
    "ppiDF = ppiDF.withColumn('#ID(s) interactor A', regexp_replace('#ID(s) interactor A', 'chebi:', ''))\n",
    "ppiDF = ppiDF.withColumn('#ID(s) interactor A', regexp_replace('#ID(s) interactor A', 'ensembl:', ''))\n",
    "ppiDF = ppiDF.withColumn('#ID(s) interactor A', regexp_replace('#ID(s) interactor A', 'ensemblgenomes:', ''))\n",
    "ppiDF = ppiDF.withColumn('#ID(s) interactor A', regexp_replace('#ID(s) interactor A', 'intact:', ''))\n",
    "ppiDF = ppiDF.withColumn('#ID(s) interactor A', regexp_replace('#ID(s) interactor A', 'refseq:', ''))\n",
    "\n",
    "ppiDF = ppiDF.withColumn('ID(s) interactor B', regexp_replace('ID(s) interactor B', 'uniprotkb:', ''))\n",
    "ppiDF = ppiDF.withColumn('ID(s) interactor B', regexp_replace('ID(s) interactor B', 'chebi:', ''))\n",
    "ppiDF = ppiDF.withColumn('ID(s) interactor B', regexp_replace('ID(s) interactor B', 'ensembl:', ''))\n",
    "ppiDF = ppiDF.withColumn('ID(s) interactor B', regexp_replace('ID(s) interactor B', 'ensemblgenomes:', ''))\n",
    "ppiDF = ppiDF.withColumn('ID(s) interactor B', regexp_replace('ID(s) interactor B', 'intact:', ''))\n",
    "ppiDF = ppiDF.withColumn('ID(s) interactor B', regexp_replace('ID(s) interactor B', 'refseq:', ''))\n",
    "\n",
    "ppiDF = ppiDF.withColumn('Confidence value(s)', regexp_replace('Confidence value(s)', 'intact-miscore:', ''))\n",
    "\n",
    "ppiDF.show()"
   ]
  },
  {
   "cell_type": "markdown",
   "metadata": {},
   "source": [
    "Ridenominazione dei parametri del DataFrame ppiDF"
   ]
  },
  {
   "cell_type": "code",
   "execution_count": 9,
   "metadata": {},
   "outputs": [
    {
     "name": "stdout",
     "output_type": "stream",
     "text": [
      "+------------+------------+----------+\n",
      "|Interactor_A|Interactor_B|Confidence|\n",
      "+------------+------------+----------+\n",
      "|      P38764|      P40016|      0.76|\n",
      "|      Q01939|      P40016|      0.40|\n",
      "|      P33299|      P40016|      0.69|\n",
      "|      Q06103|      P40016|      0.81|\n",
      "|      P38764|      P40016|      0.76|\n",
      "|      P40016|      P38764|      0.76|\n",
      "|      P53549|      P40016|      0.55|\n",
      "|      P40016|      Q08723|      0.70|\n",
      "|      Q08723|      P40016|      0.70|\n",
      "|      P40016|      P38886|      0.76|\n",
      "|      P40016|      P43588|      0.76|\n",
      "|      P40016|      P38764|      0.76|\n",
      "|      P40016|      Q06103|      0.81|\n",
      "|      P53008|      P40016|      0.40|\n",
      "|      P32565|      P40016|      0.40|\n",
      "|      P40016|      P32565|      0.40|\n",
      "|      P38764|      P40016|      0.76|\n",
      "|      P53549|      P40016|      0.55|\n",
      "|      P40016|      P38764|      0.76|\n",
      "|      Q08723|      P40016|      0.70|\n",
      "+------------+------------+----------+\n",
      "only showing top 20 rows\n",
      "\n"
     ]
    }
   ],
   "source": [
    "ppiDF = ppiDF.withColumnRenamed(\"#ID(s) interactor A\", \"Interactor_A\")\n",
    "ppiDF = ppiDF.withColumnRenamed(\"ID(s) interactor B\", \"Interactor_B\")\n",
    "ppiDF = ppiDF.withColumnRenamed(\"Confidence value(s)\", \"Confidence\")\n",
    "\n",
    "ppiDF.show()"
   ]
  },
  {
   "cell_type": "markdown",
   "metadata": {},
   "source": [
    "Ridenominazione dei parametri del DataFrame drugBankDF"
   ]
  },
  {
   "cell_type": "code",
   "execution_count": 10,
   "metadata": {},
   "outputs": [
    {
     "name": "stdout",
     "output_type": "stream",
     "text": [
      "+-----------+----------+\n",
      "|ID_DrugBank|ID_UniProt|\n",
      "+-----------+----------+\n",
      "|    DB00001|    P00734|\n",
      "|    DB00002|    P00533|\n",
      "|    DB00002|    O75015|\n",
      "|    DB00002|    P00736|\n",
      "|    DB00002|    P02745|\n",
      "|    DB00002|    P02746|\n",
      "|    DB00002|    P02747|\n",
      "|    DB00002|    P08637|\n",
      "|    DB00002|    P09871|\n",
      "|    DB00002|    P12314|\n",
      "|    DB00002|    P12318|\n",
      "|    DB00002|    P31994|\n",
      "|    DB00002|    P31995|\n",
      "|    DB00004|    P01589|\n",
      "|    DB00004|    P14784|\n",
      "|    DB00004|    P31785|\n",
      "|    DB00005|    P01375|\n",
      "|    DB00005|    P20333|\n",
      "|    DB00005|    P12314|\n",
      "|    DB00005|    P08637|\n",
      "+-----------+----------+\n",
      "only showing top 20 rows\n",
      "\n"
     ]
    }
   ],
   "source": [
    "drugBankDF = drugBankDF.withColumnRenamed(\"DrugBank ID\", \"ID_DrugBank\")\n",
    "drugBankDF = drugBankDF.withColumnRenamed(\"UniProt ID\", \"ID_UniProt\")\n",
    "\n",
    "drugBankDF.show()"
   ]
  },
  {
   "cell_type": "markdown",
   "metadata": {},
   "source": [
    "Cast dei valori 'Confidence' (stringhe) del DataFrame ppiDF in valori di tipo float"
   ]
  },
  {
   "cell_type": "code",
   "execution_count": 11,
   "metadata": {},
   "outputs": [
    {
     "name": "stdout",
     "output_type": "stream",
     "text": [
      "root\n",
      " |-- Interactor_A: string (nullable = true)\n",
      " |-- Interactor_B: string (nullable = true)\n",
      " |-- Confidence: float (nullable = true)\n",
      "\n"
     ]
    }
   ],
   "source": [
    "ppiDF = ppiDF.withColumn(\"Confidence\", ppiDF[\"Confidence\"].cast(FloatType()))\n",
    "ppiDF.printSchema()"
   ]
  },
  {
   "cell_type": "markdown",
   "metadata": {},
   "source": [
    "Eliminazione dei record del DataFrame ppiDF che presentano valori nulli nella colonna 'Confidence'"
   ]
  },
  {
   "cell_type": "code",
   "execution_count": 12,
   "metadata": {},
   "outputs": [
    {
     "name": "stdout",
     "output_type": "stream",
     "text": [
      "+------------+------------+----------+\n",
      "|Interactor_A|Interactor_B|Confidence|\n",
      "+------------+------------+----------+\n",
      "+------------+------------+----------+\n",
      "\n"
     ]
    }
   ],
   "source": [
    "ppiDF = ppiDF.na.drop(subset=[\"Confidence\"])\n",
    "ppiDF.filter(ppiDF[\"Confidence\"].isNull()).show()"
   ]
  },
  {
   "cell_type": "markdown",
   "metadata": {},
   "source": [
    "DataFrame ppiDF pulito"
   ]
  },
  {
   "cell_type": "code",
   "execution_count": 13,
   "metadata": {},
   "outputs": [
    {
     "name": "stdout",
     "output_type": "stream",
     "text": [
      "+------------+------------+----------+\n",
      "|Interactor_A|Interactor_B|Confidence|\n",
      "+------------+------------+----------+\n",
      "|      P38764|      P40016|      0.76|\n",
      "|      Q01939|      P40016|       0.4|\n",
      "|      P33299|      P40016|      0.69|\n",
      "|      Q06103|      P40016|      0.81|\n",
      "|      P38764|      P40016|      0.76|\n",
      "|      P40016|      P38764|      0.76|\n",
      "|      P53549|      P40016|      0.55|\n",
      "|      P40016|      Q08723|       0.7|\n",
      "|      Q08723|      P40016|       0.7|\n",
      "|      P40016|      P38886|      0.76|\n",
      "|      P40016|      P43588|      0.76|\n",
      "|      P40016|      P38764|      0.76|\n",
      "|      P40016|      Q06103|      0.81|\n",
      "|      P53008|      P40016|       0.4|\n",
      "|      P32565|      P40016|       0.4|\n",
      "|      P40016|      P32565|       0.4|\n",
      "|      P38764|      P40016|      0.76|\n",
      "|      P53549|      P40016|      0.55|\n",
      "|      P40016|      P38764|      0.76|\n",
      "|      Q08723|      P40016|       0.7|\n",
      "+------------+------------+----------+\n",
      "only showing top 20 rows\n",
      "\n"
     ]
    }
   ],
   "source": [
    "ppiDF.show()"
   ]
  },
  {
   "cell_type": "markdown",
   "metadata": {},
   "source": [
    "DataFrame drugBankDF pulito"
   ]
  },
  {
   "cell_type": "code",
   "execution_count": 14,
   "metadata": {},
   "outputs": [
    {
     "name": "stdout",
     "output_type": "stream",
     "text": [
      "+-----------+----------+\n",
      "|ID_DrugBank|ID_UniProt|\n",
      "+-----------+----------+\n",
      "|    DB00001|    P00734|\n",
      "|    DB00002|    P00533|\n",
      "|    DB00002|    O75015|\n",
      "|    DB00002|    P00736|\n",
      "|    DB00002|    P02745|\n",
      "|    DB00002|    P02746|\n",
      "|    DB00002|    P02747|\n",
      "|    DB00002|    P08637|\n",
      "|    DB00002|    P09871|\n",
      "|    DB00002|    P12314|\n",
      "|    DB00002|    P12318|\n",
      "|    DB00002|    P31994|\n",
      "|    DB00002|    P31995|\n",
      "|    DB00004|    P01589|\n",
      "|    DB00004|    P14784|\n",
      "|    DB00004|    P31785|\n",
      "|    DB00005|    P01375|\n",
      "|    DB00005|    P20333|\n",
      "|    DB00005|    P12314|\n",
      "|    DB00005|    P08637|\n",
      "+-----------+----------+\n",
      "only showing top 20 rows\n",
      "\n"
     ]
    }
   ],
   "source": [
    "drugBankDF.show()"
   ]
  },
  {
   "cell_type": "markdown",
   "metadata": {},
   "source": [
    "Creo un nuovo DataFrame in cui, per ciascuna drug, è presente la lista delle proteine coinvolte (dal database DrugBank). Questo sarà utile per far si che il sistema raccomandi proteine, per ciascuna drug, non presenti nella lista delle proteine già coinvolte per quella determinata drug"
   ]
  },
  {
   "cell_type": "code",
   "execution_count": 15,
   "metadata": {},
   "outputs": [
    {
     "name": "stdout",
     "output_type": "stream",
     "text": [
      "+-----------+--------------------+\n",
      "|ID_DrugBank|            Proteins|\n",
      "+-----------+--------------------+\n",
      "|    DB00001|            [P00734]|\n",
      "|    DB00002|[P00533, O75015, ...|\n",
      "|    DB00004|[P01589, P14784, ...|\n",
      "|    DB00005|[P01375, P20333, ...|\n",
      "|    DB00006|            [P00734]|\n",
      "|    DB00007|            [P30968]|\n",
      "|    DB00008|    [P48551, P17181]|\n",
      "|    DB00009|[P00747, P02671, ...|\n",
      "|    DB00010|            [Q02643]|\n",
      "|    DB00011|    [P48551, P17181]|\n",
      "|    DB00012|            [P19235]|\n",
      "|    DB00013|[P00747, Q03405, ...|\n",
      "|    DB00014|    [P22888, P30968]|\n",
      "|    DB00015|[P00747, P02671, ...|\n",
      "|    DB00016|            [P19235]|\n",
      "|    DB00017|            [P30988]|\n",
      "|    DB00018|    [P48551, P17181]|\n",
      "|    DB00019|            [Q99062]|\n",
      "|    DB00020|[P15509, P26951, ...|\n",
      "|    DB00022|    [P48551, P17181]|\n",
      "+-----------+--------------------+\n",
      "only showing top 20 rows\n",
      "\n"
     ]
    }
   ],
   "source": [
    "drugTargetsDF = drugBankDF.groupBy(\"ID_DrugBank\").agg(collect_list(\"ID_UniProt\").alias(\"Proteins\")).orderBy('ID_DrugBank')\n",
    "drugTargetsDF.show()"
   ]
  },
  {
   "cell_type": "markdown",
   "metadata": {},
   "source": [
    "## 3. CREAZIONE DEL DATAFRAME DA USARE PER IL SISTEMA DI RACCOMANDAZIONE"
   ]
  },
  {
   "cell_type": "markdown",
   "metadata": {},
   "source": [
    "Il seguente DataFrame contiene, per ciascuna drug del DataFrame drugBankDF che agisce con una particolare proteina Id_UniProt, tanti record quanti sono le proteine che hanno un interazione con quest'ultima (Interactor_B nel DataFrame ppiDF), aventi valori di confidence > 0.5. Ciascun record contiene il valore 'Interaction' settato a 1, usato come feedback implicito"
   ]
  },
  {
   "cell_type": "code",
   "execution_count": 16,
   "metadata": {},
   "outputs": [
    {
     "name": "stdout",
     "output_type": "stream",
     "text": [
      "+-----------+----------+------------+------------+----------+\n",
      "|ID_DrugBank|ID_UniProt|Interactor_A|Interactor_B|Confidence|\n",
      "+-----------+----------+------------+------------+----------+\n",
      "|    DB00001|    P00734|      P00734|      Q846V4|      0.73|\n",
      "|    DB00001|    P00734|      P00734|      Q846V4|      0.73|\n",
      "|    DB00001|    P00734|      P00734|  EBI-941456|      0.56|\n",
      "|    DB00001|    P00734|      P00734|      Q846V4|      0.73|\n",
      "|    DB00001|    P00734|      P00734|  EBI-941456|      0.56|\n",
      "|    DB00002|    P31994|      P31994|      P01857|      0.56|\n",
      "|    DB00002|    P31994|      P31994|      P01857|      0.56|\n",
      "|    DB00002|    P31994|      P31994|      P01857|      0.56|\n",
      "|    DB00002|    P31994|      P31994|      P01857|      0.56|\n",
      "|    DB00002|    P00533|      P00533|      P01133|      0.97|\n",
      "|    DB00002|    P31994|      P31994|      P01857|      0.56|\n",
      "|    DB00002|    P31994|      P31994|      P01857|      0.56|\n",
      "|    DB00002|    P00533|      P00533|      P62994|      0.56|\n",
      "|    DB00002|    P00533|      P00533|      P01133|      0.97|\n",
      "|    DB00002|    P00533|      P00533|      P01135|      0.78|\n",
      "|    DB00002|    P31994|      P31994|      P01857|      0.56|\n",
      "|    DB00002|    P31994|      P31994|      P01857|      0.56|\n",
      "|    DB00002|    P31994|      P31994|      P01857|      0.56|\n",
      "|    DB00002|    P31994|      P31994|      P01857|      0.56|\n",
      "|    DB00002|    P31994|      P31994|      P01857|      0.56|\n",
      "+-----------+----------+------------+------------+----------+\n",
      "only showing top 20 rows\n",
      "\n"
     ]
    }
   ],
   "source": [
    "joinedDF = drugBankDF.join(ppiDF, (drugBankDF.ID_UniProt == ppiDF.Interactor_A) & (ppiDF.Confidence >= 0.5))\n",
    "joinedDF.orderBy('ID_DrugBank').show()"
   ]
  },
  {
   "cell_type": "markdown",
   "metadata": {},
   "source": [
    "Join tra joinedDF e drugTargetsDF e selezione delle colonne utili "
   ]
  },
  {
   "cell_type": "code",
   "execution_count": 17,
   "metadata": {},
   "outputs": [
    {
     "name": "stdout",
     "output_type": "stream",
     "text": [
      "+-------+----------+------------+------------+--------------------+\n",
      "|ID_Drug|ID_UniProt|Interactor_A|Interactor_B|            Proteins|\n",
      "+-------+----------+------------+------------+--------------------+\n",
      "|DB00001|    P00734|      P00734|  EBI-941456|            [P00734]|\n",
      "|DB00001|    P00734|      P00734|      Q846V4|            [P00734]|\n",
      "|DB00001|    P00734|      P00734|      Q846V4|            [P00734]|\n",
      "|DB00001|    P00734|      P00734|      Q846V4|            [P00734]|\n",
      "|DB00001|    P00734|      P00734|  EBI-941456|            [P00734]|\n",
      "|DB00002|    P00533|      P00533|      P43403|[P00533, O75015, ...|\n",
      "|DB00002|    P00533|      P00533|      Q92870|[P00533, O75015, ...|\n",
      "|DB00002|    P00533|      P00533|      Q9NRF2|[P00533, O75015, ...|\n",
      "|DB00002|    P00533|      P00533|      P42684|[P00533, O75015, ...|\n",
      "|DB00002|    P00533|      P00533|      P29353|[P00533, O75015, ...|\n",
      "|DB00002|    P00533|      P00533|      P62993|[P00533, O75015, ...|\n",
      "|DB00002|    P00533|      P00533|      Q92569|[P00533, O75015, ...|\n",
      "|DB00002|    P00533|      P00533|      Q92569|[P00533, O75015, ...|\n",
      "|DB00002|    P00533|      P00533|      Q92569|[P00533, O75015, ...|\n",
      "|DB00002|    P00533|      P00533|      P42684|[P00533, O75015, ...|\n",
      "|DB00002|    P00533|      P00533|      O00459|[P00533, O75015, ...|\n",
      "|DB00002|    P00533|      P00533|      Q13239|[P00533, O75015, ...|\n",
      "|DB00002|    P00533|      P00533|      Q92870|[P00533, O75015, ...|\n",
      "|DB00002|    P00533|      P00533|      P29353|[P00533, O75015, ...|\n",
      "|DB00002|    P00533|      P00533|      Q92625|[P00533, O75015, ...|\n",
      "+-------+----------+------------+------------+--------------------+\n",
      "only showing top 20 rows\n",
      "\n"
     ]
    }
   ],
   "source": [
    "joinedDF = joinedDF.withColumnRenamed(\"ID_DrugBank\", \"ID_Drug\")\n",
    "joinedDF = joinedDF.join(drugTargetsDF, drugTargetsDF.ID_DrugBank == joinedDF.ID_Drug)\n",
    "joinedDF = joinedDF.select(joinedDF['ID_Drug'], joinedDF['ID_UniProt'], joinedDF['Interactor_A'], joinedDF['Interactor_B'], joinedDF['Proteins'])\n",
    "\n",
    "joinedDF.orderBy('ID_Drug').show()"
   ]
  },
  {
   "cell_type": "markdown",
   "metadata": {},
   "source": [
    "Creazione della colonna 'Interaction'"
   ]
  },
  {
   "cell_type": "code",
   "execution_count": 18,
   "metadata": {},
   "outputs": [
    {
     "name": "stdout",
     "output_type": "stream",
     "text": [
      "+-------+----------+------------+------------+--------------------+-----------+\n",
      "|ID_Drug|ID_UniProt|Interactor_A|Interactor_B|            Proteins|Interaction|\n",
      "+-------+----------+------------+------------+--------------------+-----------+\n",
      "|DB00001|    P00734|      P00734|  EBI-941456|            [P00734]|          1|\n",
      "|DB00001|    P00734|      P00734|      Q846V4|            [P00734]|          1|\n",
      "|DB00001|    P00734|      P00734|      Q846V4|            [P00734]|          1|\n",
      "|DB00001|    P00734|      P00734|      Q846V4|            [P00734]|          1|\n",
      "|DB00001|    P00734|      P00734|  EBI-941456|            [P00734]|          1|\n",
      "|DB00002|    P00533|      P00533|      P62993|[P00533, O75015, ...|          1|\n",
      "|DB00002|    P00533|      P00533|      P06493|[P00533, O75015, ...|          1|\n",
      "|DB00002|    P00533|      P00533|      P38646|[P00533, O75015, ...|          1|\n",
      "|DB00002|    P00533|      P00533|      P11142|[P00533, O75015, ...|          1|\n",
      "|DB00002|    P00533|      P00533|      P22681|[P00533, O75015, ...|          1|\n",
      "|DB00002|    P09871|      P09871|      P00736|[P00533, O75015, ...|          1|\n",
      "|DB00002|    P00533|      P00533|      P31943|[P00533, O75015, ...|          1|\n",
      "|DB00002|    P00533|      P00533|      P62993|[P00533, O75015, ...|          1|\n",
      "|DB00002|    P00533|      P00533|      Q06124|[P00533, O75015, ...|          1|\n",
      "|DB00002|    P00533|      P00533|      Q05397|[P00533, O75015, ...|          1|\n",
      "|DB00002|    P00533|      P00533|      P29353|[P00533, O75015, ...|          1|\n",
      "|DB00002|    P00533|      P00533|      Q71U36|[P00533, O75015, ...|          1|\n",
      "|DB00002|    P00533|      P00533|      P62993|[P00533, O75015, ...|          1|\n",
      "|DB00002|    P00533|      P00533|      P10599|[P00533, O75015, ...|          1|\n",
      "|DB00002|    P00533|      P00533|      P63104|[P00533, O75015, ...|          1|\n",
      "+-------+----------+------------+------------+--------------------+-----------+\n",
      "only showing top 20 rows\n",
      "\n"
     ]
    }
   ],
   "source": [
    "joinedDF = joinedDF.withColumn(\"Interaction\", lit(1))\n",
    "joinedDF.orderBy('ID_Drug').show()"
   ]
  },
  {
   "cell_type": "markdown",
   "metadata": {},
   "source": [
    "Eliminazione dei duplicati e di eventuali record che presentano in 'Interactor_B' il valore '-'"
   ]
  },
  {
   "cell_type": "code",
   "execution_count": 19,
   "metadata": {},
   "outputs": [
    {
     "name": "stdout",
     "output_type": "stream",
     "text": [
      "+-------+----------+------------+------------+--------------------+-----------+\n",
      "|ID_Drug|ID_UniProt|Interactor_A|Interactor_B|            Proteins|Interaction|\n",
      "+-------+----------+------------+------------+--------------------+-----------+\n",
      "|DB00001|    P00734|      P00734|  EBI-941456|            [P00734]|          1|\n",
      "|DB00001|    P00734|      P00734|      Q846V4|            [P00734]|          1|\n",
      "|DB00002|    P00533|      P00533|      A4FU49|[P00533, O75015, ...|          1|\n",
      "|DB00002|    P00533|      P00533| EBI-4399559|[P00533, O75015, ...|          1|\n",
      "|DB00002|    P00533|      P00533|   NP_059022|[P00533, O75015, ...|          1|\n",
      "|DB00002|    P00533|      P00533|      O00170|[P00533, O75015, ...|          1|\n",
      "|DB00002|    P00533|      P00533|      O00401|[P00533, O75015, ...|          1|\n",
      "|DB00002|    P00533|      P00533|      O00459|[P00533, O75015, ...|          1|\n",
      "|DB00002|    P12314|      P12314|      O00526|[P00533, O75015, ...|          1|\n",
      "|DB00002|    P00533|      P00533|      O00750|[P00533, O75015, ...|          1|\n",
      "|DB00002|    P00533|      P00533|      O14543|[P00533, O75015, ...|          1|\n",
      "|DB00002|    P00533|      P00533|      O14544|[P00533, O75015, ...|          1|\n",
      "|DB00002|    P00533|      P00533|      O14818|[P00533, O75015, ...|          1|\n",
      "|DB00002|    P00533|      P00533|      O14944|[P00533, O75015, ...|          1|\n",
      "|DB00002|    P00533|      P00533|      O14965|[P00533, O75015, ...|          1|\n",
      "|DB00002|    P00533|      P00533|      O15511|[P00533, O75015, ...|          1|\n",
      "|DB00002|    P12314|      P12314|      O43491|[P00533, O75015, ...|          1|\n",
      "|DB00002|    P00533|      P00533|      O43561|[P00533, O75015, ...|          1|\n",
      "|DB00002|    P00533|      P00533|      O43639|[P00533, O75015, ...|          1|\n",
      "|DB00002|    P00533|      P00533|      O43707|[P00533, O75015, ...|          1|\n",
      "+-------+----------+------------+------------+--------------------+-----------+\n",
      "only showing top 20 rows\n",
      "\n"
     ]
    }
   ],
   "source": [
    "joinedDF = joinedDF.filter(joinedDF.Interactor_B != \"-\")\n",
    "joinedDF = joinedDF.dropDuplicates()\n",
    "\n",
    "joinedDF.orderBy('ID_DrugBank', 'Interactor_B').show()"
   ]
  },
  {
   "cell_type": "markdown",
   "metadata": {},
   "source": [
    "Creazione di una nuova colonna booleana 'Interactor_drug_target' usata per filtrare, per ciascuna drug, solo quelle proteine 'Interactor_B' che non hanno alcuna relazione con quella specifica drug (viene, infatti, effettuato, per ciascun record, un check tra 'Interactor_B' e la lista in 'Proteins'. Se Interactor_B è presente in Proteins, il valore è True, False altrimenti)"
   ]
  },
  {
   "cell_type": "code",
   "execution_count": 20,
   "metadata": {},
   "outputs": [
    {
     "name": "stdout",
     "output_type": "stream",
     "text": [
      "+-------+----------+------------+------------+--------------------+-----------+----------------------+\n",
      "|ID_Drug|ID_UniProt|Interactor_A|Interactor_B|            Proteins|Interaction|Interactor_drug_target|\n",
      "+-------+----------+------------+------------+--------------------+-----------+----------------------+\n",
      "|DB00001|    P00734|      P00734|  EBI-941456|            [P00734]|          1|                 false|\n",
      "|DB00001|    P00734|      P00734|      Q846V4|            [P00734]|          1|                 false|\n",
      "|DB00002|    P00533|      P00533|      A4FU49|[P00533, O75015, ...|          1|                 false|\n",
      "|DB00002|    P00533|      P00533| EBI-4399559|[P00533, O75015, ...|          1|                 false|\n",
      "|DB00002|    P00533|      P00533|   NP_059022|[P00533, O75015, ...|          1|                 false|\n",
      "|DB00002|    P00533|      P00533|      O00170|[P00533, O75015, ...|          1|                 false|\n",
      "|DB00002|    P00533|      P00533|      O00401|[P00533, O75015, ...|          1|                 false|\n",
      "|DB00002|    P00533|      P00533|      O00459|[P00533, O75015, ...|          1|                 false|\n",
      "|DB00002|    P12314|      P12314|      O00526|[P00533, O75015, ...|          1|                 false|\n",
      "|DB00002|    P00533|      P00533|      O00750|[P00533, O75015, ...|          1|                 false|\n",
      "|DB00002|    P00533|      P00533|      O14543|[P00533, O75015, ...|          1|                 false|\n",
      "|DB00002|    P00533|      P00533|      O14544|[P00533, O75015, ...|          1|                 false|\n",
      "|DB00002|    P00533|      P00533|      O14818|[P00533, O75015, ...|          1|                 false|\n",
      "|DB00002|    P00533|      P00533|      O14944|[P00533, O75015, ...|          1|                 false|\n",
      "|DB00002|    P00533|      P00533|      O14965|[P00533, O75015, ...|          1|                 false|\n",
      "|DB00002|    P00533|      P00533|      O15511|[P00533, O75015, ...|          1|                 false|\n",
      "|DB00002|    P12314|      P12314|      O43491|[P00533, O75015, ...|          1|                 false|\n",
      "|DB00002|    P00533|      P00533|      O43561|[P00533, O75015, ...|          1|                 false|\n",
      "|DB00002|    P00533|      P00533|      O43639|[P00533, O75015, ...|          1|                 false|\n",
      "|DB00002|    P00533|      P00533|      O43707|[P00533, O75015, ...|          1|                 false|\n",
      "|DB00002|    P12314|      P12314|      O43736|[P00533, O75015, ...|          1|                 false|\n",
      "|DB00002|    P00533|      P00533|      O60603|[P00533, O75015, ...|          1|                 false|\n",
      "|DB00002|    P00533|      P00533|      O60716|[P00533, O75015, ...|          1|                 false|\n",
      "|DB00002|    P00533|      P00533|      O60884|[P00533, O75015, ...|          1|                 false|\n",
      "|DB00002|    P00533|      P00533|      O75095|[P00533, O75015, ...|          1|                 false|\n",
      "|DB00002|    P00533|      P00533|      O75368|[P00533, O75015, ...|          1|                 false|\n",
      "|DB00002|    P00533|      P00533|      O75674|[P00533, O75015, ...|          1|                 false|\n",
      "|DB00002|    P00533|      P00533|      O75791|[P00533, O75015, ...|          1|                 false|\n",
      "|DB00002|    P00533|      P00533|      O94875|[P00533, O75015, ...|          1|                 false|\n",
      "|DB00002|    P12314|      P12314|      O95393|[P00533, O75015, ...|          1|                 false|\n",
      "|DB00002|    P00533|      P00533|      O95433|[P00533, O75015, ...|          1|                 false|\n",
      "|DB00002|    P00533|      P00533|      O95782|[P00533, O75015, ...|          1|                 false|\n",
      "|DB00002|    P00533|      P00533|      P00533|[P00533, O75015, ...|          1|                  true|\n",
      "|DB00002|    P00736|      P00736|      P00736|[P00533, O75015, ...|          1|                  true|\n",
      "|DB00002|    P09871|      P09871|      P00736|[P00533, O75015, ...|          1|                  true|\n",
      "|DB00002|    P00533|      P00533|      P01133|[P00533, O75015, ...|          1|                 false|\n",
      "|DB00002|    P00533|      P00533|      P01135|[P00533, O75015, ...|          1|                 false|\n",
      "|DB00002|    P12314|      P12314|      P01857|[P00533, O75015, ...|          1|                 false|\n",
      "|DB00002|    P31994|      P31994|      P01857|[P00533, O75015, ...|          1|                 false|\n",
      "|DB00002|    P02747|      P02747|      P02745|[P00533, O75015, ...|          1|                  true|\n",
      "|DB00002|    P02746|      P02746|      P02745|[P00533, O75015, ...|          1|                  true|\n",
      "|DB00002|    P02745|      P02745|      P02746|[P00533, O75015, ...|          1|                  true|\n",
      "|DB00002|    P02745|      P02745|      P02747|[P00533, O75015, ...|          1|                  true|\n",
      "|DB00002|    P00533|      P00533|    P03372-4|[P00533, O75015, ...|          1|                 false|\n",
      "|DB00002|    P00533|      P00533|      P04083|[P00533, O75015, ...|          1|                 false|\n",
      "|DB00002|    P00533|      P00533|      P04406|[P00533, O75015, ...|          1|                 false|\n",
      "|DB00002|    P00533|      P00533|      P04626|[P00533, O75015, ...|          1|                 false|\n",
      "|DB00002|    P00533|      P00533|      P04792|[P00533, O75015, ...|          1|                 false|\n",
      "|DB00002|    P00533|      P00533|      P05067|[P00533, O75015, ...|          1|                 false|\n",
      "|DB00002|    P00533|      P00533|      P06493|[P00533, O75015, ...|          1|                 false|\n",
      "+-------+----------+------------+------------+--------------------+-----------+----------------------+\n",
      "only showing top 50 rows\n",
      "\n"
     ]
    }
   ],
   "source": [
    "joinedDF = joinedDF.withColumn(\"Interactor_drug_target\", expr(\"array_contains(Proteins, Interactor_B)\"))\n",
    "joinedDF.orderBy('ID_DrugBank', 'Interactor_B').show(50)"
   ]
  },
  {
   "cell_type": "markdown",
   "metadata": {},
   "source": [
    "Per ciascuna drug, effettuo il conteggio dei record aventi lo stesso Interactor_B e Interactor_drug_target settato a 'false'. Tale quantità viene usata come rating"
   ]
  },
  {
   "cell_type": "code",
   "execution_count": 21,
   "metadata": {},
   "outputs": [
    {
     "name": "stdout",
     "output_type": "stream",
     "text": [
      "+-------+------------+------------+\n",
      "|ID_Drug|Interactor_B|Interactions|\n",
      "+-------+------------+------------+\n",
      "|DB12010|      P08238|          47|\n",
      "|DB12010|      Q16543|          19|\n",
      "|DB12010|      P63104|          18|\n",
      "|DB12010|      P61981|          15|\n",
      "|DB12010|      P62993|          14|\n",
      "|DB09130|      P00533|          13|\n",
      "|DB12010|      Q12933|          11|\n",
      "|DB12010|      Q04917|          11|\n",
      "|DB11638|      P00533|          10|\n",
      "|DB15035|      P08238|          10|\n",
      "|DB12010|      P31946|          10|\n",
      "|DB12010|      P27986|          10|\n",
      "|DB12010|      P31947|           9|\n",
      "|DB12010|      P46108|           9|\n",
      "|DB12010|      P07900|           9|\n",
      "|DB12010|      P19174|           9|\n",
      "|DB00171|      P08238|           8|\n",
      "|DB12010|      P04637|           8|\n",
      "|DB12010|      P22681|           8|\n",
      "|DB01254|      P00533|           8|\n",
      "+-------+------------+------------+\n",
      "only showing top 20 rows\n",
      "\n"
     ]
    }
   ],
   "source": [
    "joinedDF = joinedDF.filter(joinedDF.Interactor_drug_target == 'false').groupBy(\"ID_Drug\",\"Interactor_B\").count()\n",
    "joinedDF = joinedDF.withColumnRenamed(\"count\", \"Interactions\")\n",
    "\n",
    "joinedDF.orderBy('Interactions', ascending=False).show()"
   ]
  },
  {
   "cell_type": "markdown",
   "metadata": {},
   "source": [
    "## 4. CONVERSIONE DEI VALORI DI TIPO 'STRING' IN INDICI"
   ]
  },
  {
   "cell_type": "markdown",
   "metadata": {},
   "source": [
    "I valori da usare per addestrare il modello di raccomandazione possono essere soltanto di tipo 'intero' o 'double' (in questo caso i valori sono di tipo 'stringa'). Per ovviare a questo problema, utilizzo la funzione StringIndexer di Spark per codificare le stringhe. Tale funzione può essere usata per una sola colonna, quindi la funzione Pipelane viene utilizzata per combinare le due colonne indicizzate"
   ]
  },
  {
   "cell_type": "code",
   "execution_count": 22,
   "metadata": {},
   "outputs": [
    {
     "name": "stdout",
     "output_type": "stream",
     "text": [
      "+-------+------------+------------+-------------+------------------+\n",
      "|ID_Drug|Interactor_B|Interactions|ID_Drug_index|Interactor_B_index|\n",
      "+-------+------------+------------+-------------+------------------+\n",
      "|DB11712|      P12956|           1|        329.0|             551.0|\n",
      "|DB00114|      Q9NVD7|           1|        200.0|            4935.0|\n",
      "|DB04988|      P04406|           2|         41.0|             256.0|\n",
      "|DB07529|      O75496|           1|        525.0|             102.0|\n",
      "|DB00823|      P78362|           1|        150.0|             147.0|\n",
      "|DB12010|      Q9GZT8|           2|          0.0|            3232.0|\n",
      "|DB00624|      Q15084|           1|         81.0|             122.0|\n",
      "|DB00074|      O43491|           1|       1220.0|            1123.0|\n",
      "|DB14487|    O75182-2|           1|          1.0|            1540.0|\n",
      "|DB00907|      P30825|           1|        214.0|             736.0|\n",
      "|DB06870|    Q9BY66-3|           1|        619.0|             317.0|\n",
      "|DB04573|      Q9BQ39|           1|        102.0|             200.0|\n",
      "|DB01412|      O15354|           1|       1605.0|             263.0|\n",
      "|DB07126|      Q00526|           2|        377.0|              74.0|\n",
      "|DB12267|      P0DQD2|           1|         17.0|            1363.0|\n",
      "|DB06454|      P47211|           1|       2544.0|             266.0|\n",
      "|DB01169|      Q92793|           2|         15.0|               7.0|\n",
      "|DB01108|EBI-11177835|           1|        101.0|             463.0|\n",
      "|DB06492|      O95967|           1|       2399.0|            1488.0|\n",
      "|DB00527|      O43303|           1|        864.0|             852.0|\n",
      "+-------+------------+------------+-------------+------------------+\n",
      "only showing top 20 rows\n",
      "\n"
     ]
    }
   ],
   "source": [
    "drugIndexer = StringIndexer(inputCol='ID_Drug', outputCol='ID_Drug_index').fit(joinedDF)\n",
    "proteinIndexer = StringIndexer(inputCol='Interactor_B', outputCol='Interactor_B_index').fit(joinedDF)\n",
    "\n",
    "pipeline = Pipeline(stages=[drugIndexer, proteinIndexer])\n",
    "\n",
    "indexedDF = pipeline.fit(joinedDF).transform(joinedDF)\n",
    "\n",
    "indexedDF.show()"
   ]
  },
  {
   "cell_type": "markdown",
   "metadata": {},
   "source": [
    "## 5. CREAZIONE DEL MODELLO ALS E FITTING DEI DATI"
   ]
  },
  {
   "cell_type": "markdown",
   "metadata": {},
   "source": [
    "Viene effettuato il training e la valutazione del nostro modello. Vengono provati diversi settaggi per trovare il più piccolo valore di RMSE, usato per testare l'accuracy delle predizioni del nostro modello.\n",
    "\n",
    "La funzione RegressionEvaluator ci permette di iterare differenti rank, alpha, iterazioni, ecc. per trovare il valore più basso di RMSE.\n",
    "\n",
    "A seguire vengono elencati i parametri usati quando si crea un oggetto ALS:\n",
    "\n",
    "- maxIter: Numero massimo di iterazioni da eseguire (default: 10)\n",
    "\n",
    "- regParam: Parametro di regolarizzazione. Riduce l'overfitting del modello, il che porta ad una riduzione della varianza nelle stime. (default: 0.01)\n",
    "\n",
    "- rank: Dimensioni dei feature vectors da usare. Grandi rank possono portare a modelli migliori ma sono molto più costosi da calcolare (default: 10)\n",
    "\n",
    "- alpha: Una costante usata per calcolare la confidence con dataset impliciti (default: 1.0)\n",
    "\n",
    "- implicitPrefs: impostato a True quando si lavora con feedback implicito (dafault: False)\n",
    "\n",
    "- coldStartStrategy: Strategia per gestire nuovi o sconosciuti items/users. Impostandolo su 'drop' si escludono questi item dai risultati (default: nan)"
   ]
  },
  {
   "cell_type": "code",
   "execution_count": 23,
   "metadata": {},
   "outputs": [
    {
     "name": "stdout",
     "output_type": "stream",
     "text": [
      "Creating ALS model ...\n",
      "For regParam: 0.01, rank: 25, alpha: 10.0, RMSE: 0.29725979804183544\n",
      "For regParam: 0.01, rank: 25, alpha: 20.0, RMSE: 0.29725979804183555\n",
      "For regParam: 0.01, rank: 25, alpha: 40.0, RMSE: 0.29725979804183544\n",
      "For regParam: 0.01, rank: 25, alpha: 60.0, RMSE: 0.29725979804183544\n",
      "For regParam: 0.01, rank: 25, alpha: 80.0, RMSE: 0.29725979804183544\n",
      "For regParam: 0.1, rank: 25, alpha: 10.0, RMSE: 0.2843076553038148\n",
      "For regParam: 0.1, rank: 25, alpha: 20.0, RMSE: 0.2843076553038148\n",
      "For regParam: 0.1, rank: 25, alpha: 40.0, RMSE: 0.2843076553038148\n",
      "For regParam: 0.1, rank: 25, alpha: 60.0, RMSE: 0.2843076553038148\n",
      "For regParam: 0.1, rank: 25, alpha: 80.0, RMSE: 0.2843076553038148\n",
      "Chosen parameters: regParam = 0.1, rank = 25, alpha = 10.0\n"
     ]
    }
   ],
   "source": [
    "(training,test) = indexedDF.randomSplit([0.8, 0.2])\n",
    "\n",
    "regParams = [0.01, 0.1]\n",
    "ranks = [25]\n",
    "alphas = [10.0, 20.0, 40.0, 60.0, 80.0]\n",
    "\n",
    "aus_regParam = 0.0\n",
    "aus_rank = 0\n",
    "aus_alpha = 0.0\n",
    "aus_rmse = 0.0\n",
    "\n",
    "print('Creating ALS model ...')\n",
    "for regParam in regParams:\n",
    "    for rank in ranks:\n",
    "        for alpha in alphas:\n",
    "            aus_als = ALS(maxIter=10, regParam=regParam, rank=rank, alpha=alpha, userCol='ID_Drug_index', itemCol=\"Interactor_B_index\", ratingCol=\"Interactions\", coldStartStrategy=\"drop\")\n",
    "            aus_model = aus_als.fit(training)\n",
    "            predictions = aus_model.transform(test)\n",
    "            evaluator = RegressionEvaluator(metricName=\"rmse\", labelCol=\"Interactions\", predictionCol=\"prediction\")\n",
    "            rmse = evaluator.evaluate(predictions)\n",
    "\n",
    "            if(aus_rmse == 0.0 or rmse < aus_rmse):\n",
    "                aus_regParam = regParam\n",
    "                aus_rank = rank\n",
    "                aus_alpha = alpha\n",
    "                aus_rmse = rmse\n",
    "                model = aus_model\n",
    "\n",
    "            print(\"For regParam: {0}, rank: {1}, alpha: {2}, RMSE: {3}\".format(regParam, rank, alpha, rmse))\n",
    "\n",
    "print('Chosen parameters: regParam = {0}, rank = {1}, alpha = {2}'.format(aus_regParam, aus_rank, aus_alpha))"
   ]
  },
  {
   "cell_type": "markdown",
   "metadata": {},
   "source": [
    "## 6. SISTEMA DI RACCOMANDAZIONE"
   ]
  },
  {
   "cell_type": "markdown",
   "metadata": {},
   "source": [
    "Selezione di n (scelto dall'utente) proteine raccomandate per drug"
   ]
  },
  {
   "cell_type": "code",
   "execution_count": 24,
   "metadata": {},
   "outputs": [
    {
     "name": "stdout",
     "output_type": "stream",
     "text": [
      "Insert a number of recommendations per drug:\n",
      "5\n",
      "+-------------+--------------------+\n",
      "|ID_Drug_index|     recommendations|\n",
      "+-------------+--------------------+\n",
      "|         1580|[[5263, 3.0975058...|\n",
      "|          471|[[5263, 3.0968518...|\n",
      "|         1591|[[5263, 3.4680135...|\n",
      "|         4101|[[5263, 3.2117047...|\n",
      "|         1342|[[5263, 3.1094651...|\n",
      "|         2122|[[5263, 3.2212315...|\n",
      "|         2142|[[5263, 3.1867392...|\n",
      "|          463|[[5263, 2.919088]...|\n",
      "|          833|[[5263, 3.0890095...|\n",
      "|         3794|[[5263, 2.647227]...|\n",
      "|         1645|[[5263, 3.2347763...|\n",
      "|         3175|[[5263, 2.9950557...|\n",
      "|          496|[[5263, 2.733716]...|\n",
      "|         2366|[[5263, 3.1744854...|\n",
      "|         2866|[[5263, 3.0181174...|\n",
      "|         3997|[[3543, 2.866371]...|\n",
      "|          148|[[5263, 2.9943979...|\n",
      "|         1088|[[5263, 2.8669572...|\n",
      "|         1238|[[5263, 3.2671602...|\n",
      "|         1829|[[5263, 3.1090856...|\n",
      "+-------------+--------------------+\n",
      "only showing top 20 rows\n",
      "\n"
     ]
    }
   ],
   "source": [
    "print(\"Insert a number of recommendations per drug:\")\n",
    "n = int(input())\n",
    "\n",
    "protein_recs = model.recommendForAllUsers(n)\n",
    "\n",
    "protein_recs.show()"
   ]
  },
  {
   "cell_type": "markdown",
   "metadata": {},
   "source": [
    "Per ciascuna ID_Drug_index, splitto i valori [Interactor_B_index, rating] di 'recommendations' in due colonne"
   ]
  },
  {
   "cell_type": "code",
   "execution_count": 25,
   "metadata": {},
   "outputs": [
    {
     "name": "stdout",
     "output_type": "stream",
     "text": [
      "+-------------+------------------+---------+\n",
      "|ID_Drug_index|Interactor_B_index|   rating|\n",
      "+-------------+------------------+---------+\n",
      "|         1580|              5263|3.0975058|\n",
      "|         1580|              3543|2.9342432|\n",
      "|         1580|              6280|2.3231292|\n",
      "|         1580|              3956|2.1986682|\n",
      "|         1580|              4631|2.0792117|\n",
      "|          471|              5263|3.0968518|\n",
      "|          471|              3543| 3.047263|\n",
      "|          471|              6280|2.3226388|\n",
      "|          471|              3956| 2.196093|\n",
      "|          471|              4631|2.1071174|\n",
      "|         1591|              5263|3.4680135|\n",
      "|         1591|              3543|3.1700666|\n",
      "|         1591|              6280|2.6010096|\n",
      "|         1591|              4631| 2.162599|\n",
      "|         1591|              3956|2.1548543|\n",
      "|         4101|              5263|3.2117047|\n",
      "|         4101|              3543|2.9510155|\n",
      "|         4101|              6280|2.4087787|\n",
      "|         4101|              3956|2.0807428|\n",
      "|         4101|              4631|2.0100622|\n",
      "+-------------+------------------+---------+\n",
      "only showing top 20 rows\n",
      "\n"
     ]
    }
   ],
   "source": [
    "flatDrugRecs = protein_recs.withColumn('proteinAndRating', explode(protein_recs.recommendations)).select('ID_Drug_index', 'proteinAndRating.*')\n",
    "\n",
    "flatDrugRecs.show()"
   ]
  },
  {
   "cell_type": "markdown",
   "metadata": {},
   "source": [
    "## 7. CONVERSIONE DEGLI INDICI NELLE STRINGHE ORIGINALI"
   ]
  },
  {
   "cell_type": "code",
   "execution_count": 26,
   "metadata": {},
   "outputs": [
    {
     "name": "stdout",
     "output_type": "stream",
     "text": [
      "+-------+----------+---------+\n",
      "|ID_Drug|ID_Protein|   rating|\n",
      "+-------+----------+---------+\n",
      "|DB12010|    P08238|12.350742|\n",
      "|DB12010|    P63104|7.6922503|\n",
      "|DB12010|    Q04917|6.9208765|\n",
      "|DB12010|    Q9Y375|6.2895517|\n",
      "|DB12010|    Q16543| 6.265911|\n",
      "|DB00181|    Q9Y375|5.2506804|\n",
      "|DB00162|    Q9Y375| 4.975567|\n",
      "|DB08236|    Q9BPX5|4.9009175|\n",
      "|DB15035|    P08238|4.8914227|\n",
      "|DB00181|    Q9Y244|4.7844176|\n",
      "|DB00162|    Q9Y244|4.7280416|\n",
      "|DB08515|    Q9Y244|4.7085075|\n",
      "|DB08235|    Q9BPX5|4.6962643|\n",
      "|DB06098|    Q9Y375| 4.689534|\n",
      "|DB08358|    Q9Y244|4.5649304|\n",
      "|DB08358|    Q9Y375|4.5648446|\n",
      "|DB07728|    Q9Y244|4.5317497|\n",
      "|DB08885|    Q9Y244| 4.506262|\n",
      "|DB08885|    Q9Y375| 4.455168|\n",
      "|DB00083|    Q9Y244| 4.451627|\n",
      "+-------+----------+---------+\n",
      "only showing top 20 rows\n",
      "\n"
     ]
    }
   ],
   "source": [
    "drugString = IndexToString(inputCol='ID_Drug_index', outputCol='ID_Drug', labels=drugIndexer.labels)\n",
    "proteinString = IndexToString(inputCol='Interactor_B_index', outputCol='ID_Protein', labels=proteinIndexer.labels)\n",
    "\n",
    "convertedDrugRecs = Pipeline(stages=[drugString, proteinString]).fit(indexedDF).transform(flatDrugRecs)\n",
    "convertedDrugRecs = convertedDrugRecs.select(convertedDrugRecs['ID_Drug'], convertedDrugRecs['ID_Protein'], convertedDrugRecs['rating'])\n",
    "\n",
    "convertedDrugRecs.select('ID_Drug', 'ID_Protein', 'rating').orderBy('rating', ascending=False).show()"
   ]
  },
  {
   "cell_type": "markdown",
   "metadata": {},
   "source": [
    "## 8. VERIFICA DEL SISTEMA DI RACCOMANDAZIONE CREATO"
   ]
  },
  {
   "cell_type": "code",
   "execution_count": 27,
   "metadata": {},
   "outputs": [
    {
     "name": "stdout",
     "output_type": "stream",
     "text": [
      "Insert an id_drug: \n",
      "DB12010\n",
      "Recommended Proteins for DB12010\n",
      "+----------+---------+\n",
      "|ID_Protein|   rating|\n",
      "+----------+---------+\n",
      "|    P08238|12.350742|\n",
      "|    P63104|7.6922503|\n",
      "|    Q04917|6.9208765|\n",
      "|    Q9Y375|6.2895517|\n",
      "|    Q16543| 6.265911|\n",
      "+----------+---------+\n",
      "\n",
      "joinedDF\n",
      "+-------+------------+------------+\n",
      "|ID_Drug|Interactor_B|Interactions|\n",
      "+-------+------------+------------+\n",
      "|DB12010|      P08238|          47|\n",
      "|DB12010|      Q16543|          19|\n",
      "|DB12010|      P63104|          18|\n",
      "|DB12010|      P61981|          15|\n",
      "|DB12010|      P62993|          14|\n",
      "|DB12010|      Q12933|          11|\n",
      "|DB12010|      Q04917|          11|\n",
      "|DB12010|      P31946|          10|\n",
      "|DB12010|      P27986|          10|\n",
      "|DB12010|      P46108|           9|\n",
      "|DB12010|      P31947|           9|\n",
      "|DB12010|      P19174|           9|\n",
      "|DB12010|      P07900|           9|\n",
      "|DB12010|      Q06124|           8|\n",
      "|DB12010|      P22681|           8|\n",
      "|DB12010|      P04637|           8|\n",
      "|DB12010|      P61962|           7|\n",
      "|DB12010|      P60953|           7|\n",
      "|DB12010|      P40763|           7|\n",
      "|DB12010|      Q7Z3S9|           6|\n",
      "+-------+------------+------------+\n",
      "only showing top 20 rows\n",
      "\n"
     ]
    }
   ],
   "source": [
    "print(\"Insert an id_drug: \")\n",
    "id_drug = input()\n",
    "\n",
    "print('Recommended Proteins for {0}'.format(id_drug))\n",
    "convertedDrugRecs.filter(convertedDrugRecs.ID_Drug.isin(id_drug)).select(convertedDrugRecs['ID_Protein'], convertedDrugRecs['rating']).show(n)\n",
    "\n",
    "print('joinedDF')\n",
    "joinedDF.filter(joinedDF.ID_Drug.isin(id_drug)).orderBy('Interactions', 'Interactor_B', ascending=False).show()"
   ]
  },
  {
   "cell_type": "code",
   "execution_count": null,
   "metadata": {},
   "outputs": [],
   "source": []
  }
 ],
 "metadata": {
  "kernelspec": {
   "display_name": "Python 3",
   "language": "python",
   "name": "python3"
  },
  "language_info": {
   "codemirror_mode": {
    "name": "ipython",
    "version": 3
   },
   "file_extension": ".py",
   "mimetype": "text/x-python",
   "name": "python",
   "nbconvert_exporter": "python",
   "pygments_lexer": "ipython3",
   "version": "3.7.6"
  }
 },
 "nbformat": 4,
 "nbformat_minor": 4
}
