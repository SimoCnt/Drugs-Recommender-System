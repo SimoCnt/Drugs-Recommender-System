{
 "cells": [
  {
   "cell_type": "markdown",
   "metadata": {},
   "source": [
    "## 1. LIBRARIES AND SETTINGS"
   ]
  },
  {
   "cell_type": "code",
   "execution_count": 1,
   "metadata": {},
   "outputs": [],
   "source": [
    "from pyspark.sql import SparkSession\n",
    "from pyspark.ml.evaluation import RegressionEvaluator\n",
    "from pyspark.ml.recommendation import ALS\n",
    "from pyspark.ml.tuning import TrainValidationSplit, ParamGridBuilder\n",
    "from pyspark.sql.functions import *\n",
    "from pyspark.sql.types import *\n",
    "from pyspark.ml.feature import StringIndexer, IndexToString\n",
    "from pyspark.ml import Pipeline\n",
    "from pyspark.sql.functions import explode\n",
    "\n",
    "spark = SparkSession.builder.appName('Recommendation_system').getOrCreate()"
   ]
  },
  {
   "cell_type": "markdown",
   "metadata": {},
   "source": [
    "## 2. CREATING AND CLEANING DATAFRAMES"
   ]
  },
  {
   "cell_type": "code",
   "execution_count": 2,
   "metadata": {},
   "outputs": [
    {
     "name": "stdout",
     "output_type": "stream",
     "text": [
      "+-----------+-------------------+-----------+----------+--------------------+\n",
      "|DrugBank ID|               Name|       Type|UniProt ID|        UniProt Name|\n",
      "+-----------+-------------------+-----------+----------+--------------------+\n",
      "|    DB00001|          Lepirudin|BiotechDrug|    P00734|         Prothrombin|\n",
      "|    DB00002|          Cetuximab|BiotechDrug|    P00533|Epidermal growth ...|\n",
      "|    DB00002|          Cetuximab|BiotechDrug|    O75015|Low affinity immu...|\n",
      "|    DB00002|          Cetuximab|BiotechDrug|    P00736|Complement C1r su...|\n",
      "|    DB00002|          Cetuximab|BiotechDrug|    P02745|Complement C1q su...|\n",
      "|    DB00002|          Cetuximab|BiotechDrug|    P02746|Complement C1q su...|\n",
      "|    DB00002|          Cetuximab|BiotechDrug|    P02747|Complement C1q su...|\n",
      "|    DB00002|          Cetuximab|BiotechDrug|    P08637|Low affinity immu...|\n",
      "|    DB00002|          Cetuximab|BiotechDrug|    P09871|Complement C1s su...|\n",
      "|    DB00002|          Cetuximab|BiotechDrug|    P12314|High affinity imm...|\n",
      "|    DB00002|          Cetuximab|BiotechDrug|    P12318|Low affinity immu...|\n",
      "|    DB00002|          Cetuximab|BiotechDrug|    P31994|Low affinity immu...|\n",
      "|    DB00002|          Cetuximab|BiotechDrug|    P31995|Low affinity immu...|\n",
      "|    DB00004|Denileukin diftitox|BiotechDrug|    P01589|Interleukin-2 rec...|\n",
      "|    DB00004|Denileukin diftitox|BiotechDrug|    P14784|Interleukin-2 rec...|\n",
      "|    DB00004|Denileukin diftitox|BiotechDrug|    P31785|Cytokine receptor...|\n",
      "|    DB00005|         Etanercept|BiotechDrug|    P01375|Tumor necrosis fa...|\n",
      "|    DB00005|         Etanercept|BiotechDrug|    P20333|Tumor necrosis fa...|\n",
      "|    DB00005|         Etanercept|BiotechDrug|    P12314|High affinity imm...|\n",
      "|    DB00005|         Etanercept|BiotechDrug|    P08637|Low affinity immu...|\n",
      "+-----------+-------------------+-----------+----------+--------------------+\n",
      "only showing top 20 rows\n",
      "\n"
     ]
    }
   ],
   "source": [
    "uniprot = spark.read.csv(\"DATA/uniprot links.csv\", header=True, inferSchema=True)\n",
    "uniprot.show()"
   ]
  },
  {
   "cell_type": "code",
   "execution_count": 3,
   "metadata": {},
   "outputs": [
    {
     "data": {
      "text/plain": [
       "20941"
      ]
     },
     "execution_count": 3,
     "metadata": {},
     "output_type": "execute_result"
    }
   ],
   "source": [
    "uniprot.count()"
   ]
  },
  {
   "cell_type": "code",
   "execution_count": 4,
   "metadata": {},
   "outputs": [
    {
     "name": "stdout",
     "output_type": "stream",
     "text": [
      "+-------------------+------------------+-----------------------+-----------------------+----------------------+----------------------+-------------------------------+-------------------------+-------------------------+--------------------+--------------------+--------------------+--------------------+-------------------------+-------------------+\n",
      "|#ID(s) interactor A|ID(s) interactor B|Alt. ID(s) interactor A|Alt. ID(s) interactor B|Alias(es) interactor A|Alias(es) interactor B|Interaction detection method(s)|Publication 1st author(s)|Publication Identifier(s)|  Taxid interactor A|  Taxid interactor B| Interaction type(s)|  Source database(s)|Interaction identifier(s)|Confidence value(s)|\n",
      "+-------------------+------------------+-----------------------+-----------------------+----------------------+----------------------+-------------------------------+-------------------------+-------------------------+--------------------+--------------------+--------------------+--------------------+-------------------------+-------------------+\n",
      "|   uniprotkb:P38764|  uniprotkb:P40016|   intact:EBI-15913|...|   intact:EBI-15927|...|  psi-mi:rpn1_yeast...|  psi-mi:rpn3_yeast...|           psi-mi:\"MI:0676\"(...|     Krogan et al. (2006)|     pubmed:16554755|i...|taxid:559292(yeas...|taxid:559292(yeas...|psi-mi:\"MI:0915\"(...|psi-mi:\"MI:0471\"(...|     intact:EBI-694186...|intact-miscore:0.76|\n",
      "|   uniprotkb:Q01939|  uniprotkb:P40016|   intact:EBI-13914|...|   intact:EBI-15927|...|  psi-mi:prs8_yeast...|  psi-mi:rpn3_yeast...|           psi-mi:\"MI:0676\"(...|     Krogan et al. (2006)|     pubmed:16554755|i...|taxid:559292(yeas...|taxid:559292(yeas...|psi-mi:\"MI:0915\"(...|psi-mi:\"MI:0471\"(...|     intact:EBI-694187...|intact-miscore:0.40|\n",
      "|   uniprotkb:P33299|  uniprotkb:P40016|   intact:EBI-13910|...|   intact:EBI-15927|...|  psi-mi:prs7_yeast...|  psi-mi:rpn3_yeast...|           psi-mi:\"MI:0676\"(...|     Krogan et al. (2006)|     pubmed:16554755|i...|taxid:559292(yeas...|taxid:559292(yeas...|psi-mi:\"MI:0915\"(...|psi-mi:\"MI:0471\"(...|     intact:EBI-694190...|intact-miscore:0.69|\n",
      "|   uniprotkb:Q06103|  uniprotkb:P40016|   intact:EBI-15940|...|   intact:EBI-15927|...|  psi-mi:rpn7_yeast...|  psi-mi:rpn3_yeast...|           psi-mi:\"MI:0676\"(...|     Krogan et al. (2006)|     pubmed:16554755|i...|taxid:559292(yeas...|taxid:559292(yeas...|psi-mi:\"MI:0915\"(...|psi-mi:\"MI:0471\"(...|     intact:EBI-694189...|intact-miscore:0.81|\n",
      "|   uniprotkb:P38764|  uniprotkb:P40016|   intact:EBI-15913|...|   intact:EBI-15927|...|  psi-mi:rpn1_yeast...|  psi-mi:rpn3_yeast...|           psi-mi:\"MI:0676\"(...|     Krogan et al. (2006)|     pubmed:16554755|i...|taxid:559292(yeas...|taxid:559292(yeas...|psi-mi:\"MI:0915\"(...|psi-mi:\"MI:0471\"(...|     intact:EBI-694192...|intact-miscore:0.76|\n",
      "|   uniprotkb:P40016|  uniprotkb:P38764|   intact:EBI-15927|...|   intact:EBI-15913|...|  psi-mi:rpn3_yeast...|  psi-mi:rpn1_yeast...|           psi-mi:\"MI:0676\"(...|     Krogan et al. (2006)|     pubmed:16554755|i...|taxid:559292(yeas...|taxid:559292(yeas...|psi-mi:\"MI:0915\"(...|psi-mi:\"MI:0471\"(...|     intact:EBI-694194...|intact-miscore:0.76|\n",
      "|   uniprotkb:P53549|  uniprotkb:P40016|   intact:EBI-18520|...|   intact:EBI-15927|...|  psi-mi:prs10_yeas...|  psi-mi:rpn3_yeast...|           psi-mi:\"MI:0676\"(...|     Krogan et al. (2006)|     pubmed:16554755|i...|taxid:559292(yeas...|taxid:559292(yeas...|psi-mi:\"MI:0915\"(...|psi-mi:\"MI:0471\"(...|     intact:EBI-694195...|intact-miscore:0.55|\n",
      "|   uniprotkb:P40016|  uniprotkb:Q08723|   intact:EBI-15927|...|   intact:EBI-36176|...|  psi-mi:rpn3_yeast...|  psi-mi:rpn8_yeast...|           psi-mi:\"MI:0676\"(...|     Krogan et al. (2006)|     pubmed:16554755|i...|taxid:559292(yeas...|taxid:559292(yeas...|psi-mi:\"MI:0915\"(...|psi-mi:\"MI:0471\"(...|     intact:EBI-694198...|intact-miscore:0.70|\n",
      "|   uniprotkb:Q08723|  uniprotkb:P40016|   intact:EBI-36176|...|   intact:EBI-15927|...|  psi-mi:rpn8_yeast...|  psi-mi:rpn3_yeast...|           psi-mi:\"MI:0676\"(...|     Krogan et al. (2006)|     pubmed:16554755|i...|taxid:559292(yeas...|taxid:559292(yeas...|psi-mi:\"MI:0915\"(...|psi-mi:\"MI:0471\"(...|     intact:EBI-694203...|intact-miscore:0.70|\n",
      "|   uniprotkb:P40016|  uniprotkb:P38886|   intact:EBI-15927|...|   intact:EBI-15949|...|  psi-mi:rpn3_yeast...|  psi-mi:rpn10_yeas...|           psi-mi:\"MI:0676\"(...|     Krogan et al. (2006)|     pubmed:16554755|i...|taxid:559292(yeas...|taxid:559292(yeas...|psi-mi:\"MI:0915\"(...|psi-mi:\"MI:0471\"(...|     intact:EBI-694207...|intact-miscore:0.76|\n",
      "|   uniprotkb:P40016|  uniprotkb:P43588|   intact:EBI-15927|...|   intact:EBI-11219|...|  psi-mi:rpn3_yeast...|  psi-mi:rpn11_yeas...|           psi-mi:\"MI:0676\"(...|     Krogan et al. (2006)|     pubmed:16554755|i...|taxid:559292(yeas...|taxid:559292(yeas...|psi-mi:\"MI:0915\"(...|psi-mi:\"MI:0471\"(...|     intact:EBI-694211...|intact-miscore:0.76|\n",
      "|   uniprotkb:P40016|  uniprotkb:P38764|   intact:EBI-15927|...|   intact:EBI-15913|...|  psi-mi:rpn3_yeast...|  psi-mi:rpn1_yeast...|           psi-mi:\"MI:0676\"(...|     Krogan et al. (2006)|     pubmed:16554755|i...|taxid:559292(yeas...|taxid:559292(yeas...|psi-mi:\"MI:0915\"(...|psi-mi:\"MI:0471\"(...|     intact:EBI-694222...|intact-miscore:0.76|\n",
      "|   uniprotkb:P40016|  uniprotkb:Q06103|   intact:EBI-15927|...|   intact:EBI-15940|...|  psi-mi:rpn3_yeast...|  psi-mi:rpn7_yeast...|           psi-mi:\"MI:0676\"(...|     Krogan et al. (2006)|     pubmed:16554755|i...|taxid:559292(yeas...|taxid:559292(yeas...|psi-mi:\"MI:0915\"(...|psi-mi:\"MI:0471\"(...|     intact:EBI-694218...|intact-miscore:0.81|\n",
      "|   uniprotkb:P53008|  uniprotkb:P40016|   intact:EBI-5323|u...|   intact:EBI-15927|...|  psi-mi:cwh41_yeas...|  psi-mi:rpn3_yeast...|           psi-mi:\"MI:0676\"(...|     Krogan et al. (2006)|     pubmed:16554755|i...|taxid:559292(yeas...|taxid:559292(yeas...|psi-mi:\"MI:0915\"(...|psi-mi:\"MI:0471\"(...|     intact:EBI-694226...|intact-miscore:0.40|\n",
      "|   uniprotkb:P32565|  uniprotkb:P40016|   intact:EBI-15919|...|   intact:EBI-15927|...|  psi-mi:rpn2_yeast...|  psi-mi:rpn3_yeast...|           psi-mi:\"MI:0676\"(...|     Krogan et al. (2006)|     pubmed:16554755|i...|taxid:559292(yeas...|taxid:559292(yeas...|psi-mi:\"MI:0915\"(...|psi-mi:\"MI:0471\"(...|     intact:EBI-694230...|intact-miscore:0.40|\n",
      "|   uniprotkb:P40016|  uniprotkb:P32565|   intact:EBI-15927|...|   intact:EBI-15919|...|  psi-mi:rpn3_yeast...|  psi-mi:rpn2_yeast...|           psi-mi:\"MI:0676\"(...|     Krogan et al. (2006)|     pubmed:16554755|i...|taxid:559292(yeas...|taxid:559292(yeas...|psi-mi:\"MI:0915\"(...|psi-mi:\"MI:0471\"(...|     intact:EBI-694238...|intact-miscore:0.40|\n",
      "|   uniprotkb:P38764|  uniprotkb:P40016|   intact:EBI-15913|...|   intact:EBI-15927|...|  psi-mi:rpn1_yeast...|  psi-mi:rpn3_yeast...|           psi-mi:\"MI:0676\"(...|     Krogan et al. (2006)|     pubmed:16554755|i...|taxid:559292(yeas...|taxid:559292(yeas...|psi-mi:\"MI:0915\"(...|psi-mi:\"MI:0471\"(...|     intact:EBI-694245...|intact-miscore:0.76|\n",
      "|   uniprotkb:P53549|  uniprotkb:P40016|   intact:EBI-18520|...|   intact:EBI-15927|...|  psi-mi:prs10_yeas...|  psi-mi:rpn3_yeast...|           psi-mi:\"MI:0676\"(...|     Krogan et al. (2006)|     pubmed:16554755|i...|taxid:559292(yeas...|taxid:559292(yeas...|psi-mi:\"MI:0915\"(...|psi-mi:\"MI:0471\"(...|     intact:EBI-694242...|intact-miscore:0.55|\n",
      "|   uniprotkb:P40016|  uniprotkb:P38764|   intact:EBI-15927|...|   intact:EBI-15913|...|  psi-mi:rpn3_yeast...|  psi-mi:rpn1_yeast...|           psi-mi:\"MI:0676\"(...|     Krogan et al. (2006)|     pubmed:16554755|i...|taxid:559292(yeas...|taxid:559292(yeas...|psi-mi:\"MI:0915\"(...|psi-mi:\"MI:0471\"(...|     intact:EBI-694251...|intact-miscore:0.76|\n",
      "|   uniprotkb:Q08723|  uniprotkb:P40016|   intact:EBI-36176|...|   intact:EBI-15927|...|  psi-mi:rpn8_yeast...|  psi-mi:rpn3_yeast...|           psi-mi:\"MI:0676\"(...|     Krogan et al. (2006)|     pubmed:16554755|i...|taxid:559292(yeas...|taxid:559292(yeas...|psi-mi:\"MI:0915\"(...|psi-mi:\"MI:0471\"(...|     intact:EBI-694256...|intact-miscore:0.70|\n",
      "+-------------------+------------------+-----------------------+-----------------------+----------------------+----------------------+-------------------------------+-------------------------+-------------------------+--------------------+--------------------+--------------------+--------------------+-------------------------+-------------------+\n",
      "only showing top 20 rows\n",
      "\n"
     ]
    }
   ],
   "source": [
    "species = spark.read.csv(\"DATA/species_13.csv\", header=True, inferSchema=True, sep='\\t')\n",
    "species.show()"
   ]
  },
  {
   "cell_type": "code",
   "execution_count": 5,
   "metadata": {},
   "outputs": [
    {
     "data": {
      "text/plain": [
       "1054920"
      ]
     },
     "execution_count": 5,
     "metadata": {},
     "output_type": "execute_result"
    }
   ],
   "source": [
    "species.count()"
   ]
  },
  {
   "cell_type": "markdown",
   "metadata": {},
   "source": [
    "Selecting useful columns "
   ]
  },
  {
   "cell_type": "code",
   "execution_count": 6,
   "metadata": {},
   "outputs": [
    {
     "name": "stdout",
     "output_type": "stream",
     "text": [
      "+-------------------+------------------+-------------------+\n",
      "|#ID(s) interactor A|ID(s) interactor B|Confidence value(s)|\n",
      "+-------------------+------------------+-------------------+\n",
      "|   uniprotkb:P38764|  uniprotkb:P40016|intact-miscore:0.76|\n",
      "|   uniprotkb:Q01939|  uniprotkb:P40016|intact-miscore:0.40|\n",
      "|   uniprotkb:P33299|  uniprotkb:P40016|intact-miscore:0.69|\n",
      "|   uniprotkb:Q06103|  uniprotkb:P40016|intact-miscore:0.81|\n",
      "|   uniprotkb:P38764|  uniprotkb:P40016|intact-miscore:0.76|\n",
      "|   uniprotkb:P40016|  uniprotkb:P38764|intact-miscore:0.76|\n",
      "|   uniprotkb:P53549|  uniprotkb:P40016|intact-miscore:0.55|\n",
      "|   uniprotkb:P40016|  uniprotkb:Q08723|intact-miscore:0.70|\n",
      "|   uniprotkb:Q08723|  uniprotkb:P40016|intact-miscore:0.70|\n",
      "|   uniprotkb:P40016|  uniprotkb:P38886|intact-miscore:0.76|\n",
      "|   uniprotkb:P40016|  uniprotkb:P43588|intact-miscore:0.76|\n",
      "|   uniprotkb:P40016|  uniprotkb:P38764|intact-miscore:0.76|\n",
      "|   uniprotkb:P40016|  uniprotkb:Q06103|intact-miscore:0.81|\n",
      "|   uniprotkb:P53008|  uniprotkb:P40016|intact-miscore:0.40|\n",
      "|   uniprotkb:P32565|  uniprotkb:P40016|intact-miscore:0.40|\n",
      "|   uniprotkb:P40016|  uniprotkb:P32565|intact-miscore:0.40|\n",
      "|   uniprotkb:P38764|  uniprotkb:P40016|intact-miscore:0.76|\n",
      "|   uniprotkb:P53549|  uniprotkb:P40016|intact-miscore:0.55|\n",
      "|   uniprotkb:P40016|  uniprotkb:P38764|intact-miscore:0.76|\n",
      "|   uniprotkb:Q08723|  uniprotkb:P40016|intact-miscore:0.70|\n",
      "+-------------------+------------------+-------------------+\n",
      "only showing top 20 rows\n",
      "\n"
     ]
    }
   ],
   "source": [
    "species = species.select(species['#ID(s) interactor A'], species['ID(s) interactor B'], species['Confidence value(s)'])\n",
    "species.show()"
   ]
  },
  {
   "cell_type": "markdown",
   "metadata": {},
   "source": [
    "Record cleaning"
   ]
  },
  {
   "cell_type": "code",
   "execution_count": 7,
   "metadata": {},
   "outputs": [
    {
     "name": "stdout",
     "output_type": "stream",
     "text": [
      "+-------------------+------------------+-------------------+\n",
      "|#ID(s) interactor A|ID(s) interactor B|Confidence value(s)|\n",
      "+-------------------+------------------+-------------------+\n",
      "|             P38764|            P40016|               0.76|\n",
      "|             Q01939|            P40016|               0.40|\n",
      "|             P33299|            P40016|               0.69|\n",
      "|             Q06103|            P40016|               0.81|\n",
      "|             P38764|            P40016|               0.76|\n",
      "|             P40016|            P38764|               0.76|\n",
      "|             P53549|            P40016|               0.55|\n",
      "|             P40016|            Q08723|               0.70|\n",
      "|             Q08723|            P40016|               0.70|\n",
      "|             P40016|            P38886|               0.76|\n",
      "|             P40016|            P43588|               0.76|\n",
      "|             P40016|            P38764|               0.76|\n",
      "|             P40016|            Q06103|               0.81|\n",
      "|             P53008|            P40016|               0.40|\n",
      "|             P32565|            P40016|               0.40|\n",
      "|             P40016|            P32565|               0.40|\n",
      "|             P38764|            P40016|               0.76|\n",
      "|             P53549|            P40016|               0.55|\n",
      "|             P40016|            P38764|               0.76|\n",
      "|             Q08723|            P40016|               0.70|\n",
      "+-------------------+------------------+-------------------+\n",
      "only showing top 20 rows\n",
      "\n"
     ]
    }
   ],
   "source": [
    "species = species.withColumn('#ID(s) interactor A', regexp_replace('#ID(s) interactor A', 'uniprotkb:', ''))\n",
    "species = species.withColumn('#ID(s) interactor A', regexp_replace('#ID(s) interactor A', 'chebi:', ''))\n",
    "species = species.withColumn('#ID(s) interactor A', regexp_replace('#ID(s) interactor A', 'ensembl:', ''))\n",
    "species = species.withColumn('#ID(s) interactor A', regexp_replace('#ID(s) interactor A', 'ensemblgenomes:', ''))\n",
    "species = species.withColumn('#ID(s) interactor A', regexp_replace('#ID(s) interactor A', 'intact:', ''))\n",
    "species = species.withColumn('#ID(s) interactor A', regexp_replace('#ID(s) interactor A', 'refseq:', ''))\n",
    "\n",
    "species = species.withColumn('ID(s) interactor B', regexp_replace('ID(s) interactor B', 'uniprotkb:', ''))\n",
    "species = species.withColumn('ID(s) interactor B', regexp_replace('ID(s) interactor B', 'chebi:', ''))\n",
    "species = species.withColumn('ID(s) interactor B', regexp_replace('ID(s) interactor B', 'ensembl:', ''))\n",
    "species = species.withColumn('ID(s) interactor B', regexp_replace('ID(s) interactor B', 'ensemblgenomes:', ''))\n",
    "species = species.withColumn('ID(s) interactor B', regexp_replace('ID(s) interactor B', 'intact:', ''))\n",
    "species = species.withColumn('ID(s) interactor B', regexp_replace('ID(s) interactor B', 'refseq:', ''))\n",
    "\n",
    "species = species.withColumn('Confidence value(s)', regexp_replace('Confidence value(s)', 'intact-miscore:', ''))\n",
    "\n",
    "species.show()"
   ]
  },
  {
   "cell_type": "markdown",
   "metadata": {},
   "source": [
    "Renaming columns"
   ]
  },
  {
   "cell_type": "code",
   "execution_count": 8,
   "metadata": {},
   "outputs": [],
   "source": [
    "species = species.withColumnRenamed(\"#ID(s) interactor A\", \"Interactor_A\")\n",
    "species = species.withColumnRenamed(\"ID(s) interactor B\", \"Interactor_B\")\n",
    "species = species.withColumnRenamed(\"Confidence value(s)\", \"Confidence\")\n",
    "uniprot = uniprot.withColumnRenamed(\"DrugBank ID\", \"ID_DrugBank\")\n",
    "uniprot = uniprot.withColumnRenamed(\"UniProt ID\", \"ID_UniProt\")"
   ]
  },
  {
   "cell_type": "code",
   "execution_count": 9,
   "metadata": {},
   "outputs": [
    {
     "name": "stdout",
     "output_type": "stream",
     "text": [
      "+------------+------------+----------+\n",
      "|Interactor_A|Interactor_B|Confidence|\n",
      "+------------+------------+----------+\n",
      "|      P38764|      P40016|      0.76|\n",
      "|      Q01939|      P40016|      0.40|\n",
      "|      P33299|      P40016|      0.69|\n",
      "|      Q06103|      P40016|      0.81|\n",
      "|      P38764|      P40016|      0.76|\n",
      "|      P40016|      P38764|      0.76|\n",
      "|      P53549|      P40016|      0.55|\n",
      "|      P40016|      Q08723|      0.70|\n",
      "|      Q08723|      P40016|      0.70|\n",
      "|      P40016|      P38886|      0.76|\n",
      "|      P40016|      P43588|      0.76|\n",
      "|      P40016|      P38764|      0.76|\n",
      "|      P40016|      Q06103|      0.81|\n",
      "|      P53008|      P40016|      0.40|\n",
      "|      P32565|      P40016|      0.40|\n",
      "|      P40016|      P32565|      0.40|\n",
      "|      P38764|      P40016|      0.76|\n",
      "|      P53549|      P40016|      0.55|\n",
      "|      P40016|      P38764|      0.76|\n",
      "|      Q08723|      P40016|      0.70|\n",
      "+------------+------------+----------+\n",
      "only showing top 20 rows\n",
      "\n"
     ]
    }
   ],
   "source": [
    "species.show()"
   ]
  },
  {
   "cell_type": "code",
   "execution_count": 10,
   "metadata": {},
   "outputs": [
    {
     "name": "stdout",
     "output_type": "stream",
     "text": [
      "+-----------+-------------------+-----------+----------+--------------------+\n",
      "|ID_DrugBank|               Name|       Type|ID_UniProt|        UniProt Name|\n",
      "+-----------+-------------------+-----------+----------+--------------------+\n",
      "|    DB00001|          Lepirudin|BiotechDrug|    P00734|         Prothrombin|\n",
      "|    DB00002|          Cetuximab|BiotechDrug|    P00533|Epidermal growth ...|\n",
      "|    DB00002|          Cetuximab|BiotechDrug|    O75015|Low affinity immu...|\n",
      "|    DB00002|          Cetuximab|BiotechDrug|    P00736|Complement C1r su...|\n",
      "|    DB00002|          Cetuximab|BiotechDrug|    P02745|Complement C1q su...|\n",
      "|    DB00002|          Cetuximab|BiotechDrug|    P02746|Complement C1q su...|\n",
      "|    DB00002|          Cetuximab|BiotechDrug|    P02747|Complement C1q su...|\n",
      "|    DB00002|          Cetuximab|BiotechDrug|    P08637|Low affinity immu...|\n",
      "|    DB00002|          Cetuximab|BiotechDrug|    P09871|Complement C1s su...|\n",
      "|    DB00002|          Cetuximab|BiotechDrug|    P12314|High affinity imm...|\n",
      "|    DB00002|          Cetuximab|BiotechDrug|    P12318|Low affinity immu...|\n",
      "|    DB00002|          Cetuximab|BiotechDrug|    P31994|Low affinity immu...|\n",
      "|    DB00002|          Cetuximab|BiotechDrug|    P31995|Low affinity immu...|\n",
      "|    DB00004|Denileukin diftitox|BiotechDrug|    P01589|Interleukin-2 rec...|\n",
      "|    DB00004|Denileukin diftitox|BiotechDrug|    P14784|Interleukin-2 rec...|\n",
      "|    DB00004|Denileukin diftitox|BiotechDrug|    P31785|Cytokine receptor...|\n",
      "|    DB00005|         Etanercept|BiotechDrug|    P01375|Tumor necrosis fa...|\n",
      "|    DB00005|         Etanercept|BiotechDrug|    P20333|Tumor necrosis fa...|\n",
      "|    DB00005|         Etanercept|BiotechDrug|    P12314|High affinity imm...|\n",
      "|    DB00005|         Etanercept|BiotechDrug|    P08637|Low affinity immu...|\n",
      "+-----------+-------------------+-----------+----------+--------------------+\n",
      "only showing top 20 rows\n",
      "\n"
     ]
    }
   ],
   "source": [
    "uniprot.show()"
   ]
  },
  {
   "cell_type": "markdown",
   "metadata": {},
   "source": [
    "Casting string values ('Confidence' in species DF) to float"
   ]
  },
  {
   "cell_type": "code",
   "execution_count": 11,
   "metadata": {},
   "outputs": [
    {
     "name": "stdout",
     "output_type": "stream",
     "text": [
      "root\n",
      " |-- Interactor_A: string (nullable = true)\n",
      " |-- Interactor_B: string (nullable = true)\n",
      " |-- Confidence: float (nullable = true)\n",
      "\n"
     ]
    }
   ],
   "source": [
    "species = species.withColumn(\"Confidence\", species[\"Confidence\"].cast(FloatType()))\n",
    "species.printSchema()"
   ]
  },
  {
   "cell_type": "markdown",
   "metadata": {},
   "source": [
    "Dropping record in species DataFrame that have null values in Confidence column"
   ]
  },
  {
   "cell_type": "code",
   "execution_count": 12,
   "metadata": {},
   "outputs": [
    {
     "name": "stdout",
     "output_type": "stream",
     "text": [
      "+------------+------------+----------+\n",
      "|Interactor_A|Interactor_B|Confidence|\n",
      "+------------+------------+----------+\n",
      "+------------+------------+----------+\n",
      "\n"
     ]
    }
   ],
   "source": [
    "species = species.na.drop(subset=[\"Confidence\"])\n",
    "species.filter(species[\"Confidence\"].isNull()).show()"
   ]
  },
  {
   "cell_type": "code",
   "execution_count": 13,
   "metadata": {},
   "outputs": [
    {
     "name": "stdout",
     "output_type": "stream",
     "text": [
      "+------------+------------+----------+\n",
      "|Interactor_A|Interactor_B|Confidence|\n",
      "+------------+------------+----------+\n",
      "|      P38764|      P40016|      0.76|\n",
      "|      Q01939|      P40016|       0.4|\n",
      "|      P33299|      P40016|      0.69|\n",
      "|      Q06103|      P40016|      0.81|\n",
      "|      P38764|      P40016|      0.76|\n",
      "|      P40016|      P38764|      0.76|\n",
      "|      P53549|      P40016|      0.55|\n",
      "|      P40016|      Q08723|       0.7|\n",
      "|      Q08723|      P40016|       0.7|\n",
      "|      P40016|      P38886|      0.76|\n",
      "|      P40016|      P43588|      0.76|\n",
      "|      P40016|      P38764|      0.76|\n",
      "|      P40016|      Q06103|      0.81|\n",
      "|      P53008|      P40016|       0.4|\n",
      "|      P32565|      P40016|       0.4|\n",
      "|      P40016|      P32565|       0.4|\n",
      "|      P38764|      P40016|      0.76|\n",
      "|      P53549|      P40016|      0.55|\n",
      "|      P40016|      P38764|      0.76|\n",
      "|      Q08723|      P40016|       0.7|\n",
      "+------------+------------+----------+\n",
      "only showing top 20 rows\n",
      "\n"
     ]
    }
   ],
   "source": [
    "species.show()"
   ]
  },
  {
   "cell_type": "code",
   "execution_count": 14,
   "metadata": {},
   "outputs": [
    {
     "name": "stdout",
     "output_type": "stream",
     "text": [
      "+-----------+-------------------+-----------+----------+--------------------+\n",
      "|ID_DrugBank|               Name|       Type|ID_UniProt|        UniProt Name|\n",
      "+-----------+-------------------+-----------+----------+--------------------+\n",
      "|    DB00001|          Lepirudin|BiotechDrug|    P00734|         Prothrombin|\n",
      "|    DB00002|          Cetuximab|BiotechDrug|    P00533|Epidermal growth ...|\n",
      "|    DB00002|          Cetuximab|BiotechDrug|    O75015|Low affinity immu...|\n",
      "|    DB00002|          Cetuximab|BiotechDrug|    P00736|Complement C1r su...|\n",
      "|    DB00002|          Cetuximab|BiotechDrug|    P02745|Complement C1q su...|\n",
      "|    DB00002|          Cetuximab|BiotechDrug|    P02746|Complement C1q su...|\n",
      "|    DB00002|          Cetuximab|BiotechDrug|    P02747|Complement C1q su...|\n",
      "|    DB00002|          Cetuximab|BiotechDrug|    P08637|Low affinity immu...|\n",
      "|    DB00002|          Cetuximab|BiotechDrug|    P09871|Complement C1s su...|\n",
      "|    DB00002|          Cetuximab|BiotechDrug|    P12314|High affinity imm...|\n",
      "|    DB00002|          Cetuximab|BiotechDrug|    P12318|Low affinity immu...|\n",
      "|    DB00002|          Cetuximab|BiotechDrug|    P31994|Low affinity immu...|\n",
      "|    DB00002|          Cetuximab|BiotechDrug|    P31995|Low affinity immu...|\n",
      "|    DB00004|Denileukin diftitox|BiotechDrug|    P01589|Interleukin-2 rec...|\n",
      "|    DB00004|Denileukin diftitox|BiotechDrug|    P14784|Interleukin-2 rec...|\n",
      "|    DB00004|Denileukin diftitox|BiotechDrug|    P31785|Cytokine receptor...|\n",
      "|    DB00005|         Etanercept|BiotechDrug|    P01375|Tumor necrosis fa...|\n",
      "|    DB00005|         Etanercept|BiotechDrug|    P20333|Tumor necrosis fa...|\n",
      "|    DB00005|         Etanercept|BiotechDrug|    P12314|High affinity imm...|\n",
      "|    DB00005|         Etanercept|BiotechDrug|    P08637|Low affinity immu...|\n",
      "+-----------+-------------------+-----------+----------+--------------------+\n",
      "only showing top 20 rows\n",
      "\n"
     ]
    }
   ],
   "source": [
    "uniprot.show()"
   ]
  },
  {
   "cell_type": "markdown",
   "metadata": {},
   "source": [
    "## 3. CREATING DATAFRAME TO BE USED FOR THE RECOMMENDATION SYSTEM"
   ]
  },
  {
   "cell_type": "markdown",
   "metadata": {},
   "source": [
    "The following DataFrame contains, for each drug of the uniprot DataFrame that acts with a particular Id_Uniprot protein, as many records as there are proteins (Interactor_B in the DataFrame species), having confidence values > 0.5, which interact with that specific protein ID_Uniprot (Interactor_A in the DataFrame species). Each record contains the 'Interaction' value set to 1 used as implicit feedback"
   ]
  },
  {
   "cell_type": "code",
   "execution_count": 15,
   "metadata": {},
   "outputs": [
    {
     "name": "stdout",
     "output_type": "stream",
     "text": [
      "+-----------+----------+------------+-----------+\n",
      "|ID_DrugBank|ID_UniProt|Interactor_B|Interaction|\n",
      "+-----------+----------+------------+-----------+\n",
      "|    DB00001|    P00734|  EBI-941456|          1|\n",
      "|    DB00001|    P00734|      Q846V4|          1|\n",
      "|    DB00002|    P00533|      A4FU49|          1|\n",
      "|    DB00002|    P00533| EBI-4399559|          1|\n",
      "|    DB00002|    P00533|   NP_059022|          1|\n",
      "|    DB00002|    P00533|      O00170|          1|\n",
      "|    DB00002|    P00533|      O00401|          1|\n",
      "|    DB00002|    P00533|      O00459|          1|\n",
      "|    DB00002|    P12314|      O00526|          1|\n",
      "|    DB00002|    P00533|      O00750|          1|\n",
      "|    DB00002|    P00533|      O14543|          1|\n",
      "|    DB00002|    P00533|      O14544|          1|\n",
      "|    DB00002|    P00533|      O14818|          1|\n",
      "|    DB00002|    P00533|      O14944|          1|\n",
      "|    DB00002|    P00533|      O14965|          1|\n",
      "|    DB00002|    P00533|      O15511|          1|\n",
      "|    DB00002|    P12314|      O43491|          1|\n",
      "|    DB00002|    P00533|      O43561|          1|\n",
      "|    DB00002|    P00533|      O43639|          1|\n",
      "|    DB00002|    P00533|      O43707|          1|\n",
      "+-----------+----------+------------+-----------+\n",
      "only showing top 20 rows\n",
      "\n"
     ]
    }
   ],
   "source": [
    "joinedDF = uniprot.join(species, (uniprot.ID_UniProt == species.Interactor_A) & (species.Confidence >= 0.5))\n",
    "\n",
    "joinedDF = joinedDF.select(joinedDF['ID_DrugBank'], joinedDF['ID_UniProt'], joinedDF['Interactor_B'])\n",
    "joinedDF = joinedDF.withColumn(\"Interaction\", lit(1))\n",
    "joinedDF = joinedDF.filter(joinedDF.Interactor_B != \"-\")\n",
    "joinedDF = joinedDF.dropDuplicates()\n",
    "\n",
    "joinedDF.orderBy('ID_DrugBank', 'Interactor_B').show()"
   ]
  },
  {
   "cell_type": "markdown",
   "metadata": {},
   "source": [
    "For each drug, I count the records having the same Interactor_B. This quantity is used as a rating"
   ]
  },
  {
   "cell_type": "code",
   "execution_count": 16,
   "metadata": {},
   "outputs": [
    {
     "name": "stdout",
     "output_type": "stream",
     "text": [
      "+-----------+------------+------------+\n",
      "|ID_DrugBank|Interactor_B|Interactions|\n",
      "+-----------+------------+------------+\n",
      "|    DB12010|      P08238|          47|\n",
      "|    DB12010|      P00533|          31|\n",
      "|    DB12010|      Q16543|          19|\n",
      "|    DB12010|      P63104|          18|\n",
      "|    DB00157|      O75489|          16|\n",
      "|    DB12010|      P61981|          15|\n",
      "|    DB12010|      P62993|          14|\n",
      "|    DB09130|      P00533|          13|\n",
      "|    DB12010|      P12931|          11|\n",
      "|    DB12010|      Q04917|          11|\n",
      "|    DB12010|      Q12933|          11|\n",
      "|    DB00157|      O43678|          10|\n",
      "|    DB08515|      Q99436|          10|\n",
      "|    DB15035|      P08238|          10|\n",
      "|    DB12010|      P27986|          10|\n",
      "|    DB08515|      O14818|          10|\n",
      "|    DB12010|      P31946|          10|\n",
      "|    DB11638|      P00533|          10|\n",
      "|    DB08515|      P60900|          10|\n",
      "|    DB12010|      P07900|           9|\n",
      "+-----------+------------+------------+\n",
      "only showing top 20 rows\n",
      "\n"
     ]
    }
   ],
   "source": [
    "joinedDF = joinedDF.groupBy(\"ID_DrugBank\",\"Interactor_B\").count()\n",
    "joinedDF = joinedDF.withColumnRenamed(\"count\", \"Interactions\")\n",
    "\n",
    "joinedDF.orderBy('Interactions', ascending=False).show()"
   ]
  },
  {
   "cell_type": "markdown",
   "metadata": {},
   "source": [
    "## 4. CONVERT STRING VALUES TO INDEXES"
   ]
  },
  {
   "cell_type": "code",
   "execution_count": 17,
   "metadata": {},
   "outputs": [
    {
     "name": "stdout",
     "output_type": "stream",
     "text": [
      "+-----------+------------+------------+-----------------+------------------+\n",
      "|ID_DrugBank|Interactor_B|Interactions|ID_DrugBank_index|Interactor_B_index|\n",
      "+-----------+------------+------------+-----------------+------------------+\n",
      "|    DB07789|      P08107|           1|            630.0|              21.0|\n",
      "|    DB05882|      P06401|           1|            112.0|              66.0|\n",
      "|    DB00018|      Q9UKB1|           1|           2128.0|             709.0|\n",
      "|    DB00431|      Q9UN36|           1|            124.0|             186.0|\n",
      "|    DB01593|      Q96ST3|           1|              2.0|            1002.0|\n",
      "|    DB12010|      A8MQ03|           6|              0.0|              67.0|\n",
      "|    DB03319|      Q9EP80|           1|           3720.0|             605.0|\n",
      "|    DB00904|      O15354|           1|           1156.0|             274.0|\n",
      "|    DB01428|      P82933|           1|             35.0|             475.0|\n",
      "|    DB12695|      Q9H0B6|           3|              6.0|            6370.0|\n",
      "|    DB01064|      Q13115|           1|            191.0|            1055.0|\n",
      "|    DB00393|      Q8NI08|           1|           1556.0|            1211.0|\n",
      "|    DB00624|      Q15084|           1|             83.0|             130.0|\n",
      "|    DB13944|      P55317|           1|             81.0|             283.0|\n",
      "|    DB00475|      Q14749|           1|           2148.0|             503.0|\n",
      "|    DB13998|      Q15084|           1|            314.0|             130.0|\n",
      "|    DB05184|      P34152|           1|            232.0|             535.0|\n",
      "|    DB00091|      Q16849|           1|            987.0|            2005.0|\n",
      "|    DB00603|      P36873|           1|            121.0|             164.0|\n",
      "|    DB01064|      Q08379|           1|            191.0|              25.0|\n",
      "+-----------+------------+------------+-----------------+------------------+\n",
      "only showing top 20 rows\n",
      "\n"
     ]
    }
   ],
   "source": [
    "drugIndexer = StringIndexer(inputCol='ID_DrugBank', outputCol='ID_DrugBank_index').fit(joinedDF)\n",
    "proteinIndexer = StringIndexer(inputCol='Interactor_B', outputCol='Interactor_B_index').fit(joinedDF)\n",
    "\n",
    "pipeline = Pipeline(stages=[drugIndexer, proteinIndexer])\n",
    "\n",
    "indexedDF = pipeline.fit(joinedDF).transform(joinedDF)\n",
    "\n",
    "indexedDF.show()"
   ]
  },
  {
   "cell_type": "markdown",
   "metadata": {},
   "source": [
    "## 5. CREATING ALS MODEL"
   ]
  },
  {
   "cell_type": "code",
   "execution_count": 18,
   "metadata": {},
   "outputs": [
    {
     "name": "stdout",
     "output_type": "stream",
     "text": [
      "Creating ALS model ...\n",
      "For regParam: 0.01, rank: 25, alpha: 10.0, RMSE: 0.3311380281996614\n",
      "For regParam: 0.01, rank: 25, alpha: 20.0, RMSE: 0.3311380281996614\n",
      "For regParam: 0.01, rank: 25, alpha: 40.0, RMSE: 0.3311380281996614\n",
      "For regParam: 0.01, rank: 25, alpha: 60.0, RMSE: 0.3311380281996614\n",
      "For regParam: 0.01, rank: 25, alpha: 80.0, RMSE: 0.3311380281996614\n",
      "For regParam: 0.1, rank: 25, alpha: 10.0, RMSE: 0.3351552794004877\n",
      "For regParam: 0.1, rank: 25, alpha: 20.0, RMSE: 0.33515527940048767\n",
      "For regParam: 0.1, rank: 25, alpha: 40.0, RMSE: 0.3351552794004877\n",
      "For regParam: 0.1, rank: 25, alpha: 60.0, RMSE: 0.3351552794004877\n",
      "For regParam: 0.1, rank: 25, alpha: 80.0, RMSE: 0.33515527940048767\n",
      "Chosen parameters: regParam = 0.01, rank = 25, alpha = 10.0\n"
     ]
    }
   ],
   "source": [
    "(training,test) = indexedDF.randomSplit([0.8, 0.2])\n",
    "\n",
    "regParams = [0.01, 0.1]\n",
    "ranks = [25]\n",
    "alphas = [10.0, 20.0, 40.0, 60.0, 80.0]\n",
    "\n",
    "aus_regParam = 0.0\n",
    "aus_rank = 0\n",
    "aus_alpha = 0.0\n",
    "aus_rmse = 0.0\n",
    "\n",
    "print('Creating ALS model ...')\n",
    "for regParam in regParams:\n",
    "    for rank in ranks:\n",
    "        for alpha in alphas:\n",
    "            aus_als = ALS(maxIter=10, regParam=regParam, rank=rank, alpha=alpha, userCol='ID_DrugBank_index', itemCol=\"Interactor_B_index\", ratingCol=\"Interactions\", coldStartStrategy=\"drop\")\n",
    "            aus_model = aus_als.fit(training)\n",
    "            predictions = aus_model.transform(test)\n",
    "            evaluator = RegressionEvaluator(metricName=\"rmse\", labelCol=\"Interactions\", predictionCol=\"prediction\")\n",
    "            rmse = evaluator.evaluate(predictions)\n",
    "\n",
    "            if(aus_rmse == 0.0 or rmse < aus_rmse):\n",
    "                aus_regParam = regParam\n",
    "                aus_rank = rank\n",
    "                aus_alpha = alpha\n",
    "                aus_rmse = rmse\n",
    "                model = aus_model\n",
    "\n",
    "            print(\"For regParam: {0}, rank: {1}, alpha: {2}, RMSE: {3}\".format(regParam, rank, alpha, rmse))\n",
    "\n",
    "print('Chosen parameters: regParam = {0}, rank = {1}, alpha = {2}'.format(aus_regParam, aus_rank, aus_alpha))"
   ]
  },
  {
   "cell_type": "markdown",
   "metadata": {},
   "source": [
    "## 6. CREATING RECOMMENDER SYSTEM"
   ]
  },
  {
   "cell_type": "code",
   "execution_count": 19,
   "metadata": {},
   "outputs": [
    {
     "name": "stdout",
     "output_type": "stream",
     "text": [
      "Insert a number of recommendations per drug:\n",
      "5\n",
      "+-----------------+--------------------+\n",
      "|ID_DrugBank_index|     recommendations|\n",
      "+-----------------+--------------------+\n",
      "|             1580|[[2041, 2.622497]...|\n",
      "|              471|[[2041, 8.036676]...|\n",
      "|             1591|[[2041, 3.810787]...|\n",
      "|             4101|[[935, 0.9972526]...|\n",
      "|             1342|[[2041, 2.986436]...|\n",
      "|             2122|[[2041, 4.5849857...|\n",
      "|             2142|[[2041, 3.0209415...|\n",
      "|              463|[[2041, 3.9053123...|\n",
      "|              833|[[2041, 3.7161994...|\n",
      "|             3794|[[3, 2.678913], [...|\n",
      "|             1645|[[2041, 3.0027664...|\n",
      "|             3175|[[2041, 1.3707684...|\n",
      "|              496|[[2041, 3.7170112...|\n",
      "|             2366|[[2041, 2.9704788...|\n",
      "|             2866|[[2041, 2.3068767...|\n",
      "|             3997|[[629, 1.2082024]...|\n",
      "|              148|[[2041, 5.5285063...|\n",
      "|             1088|[[2041, 4.0438128...|\n",
      "|             1238|[[2041, 3.4721122...|\n",
      "|             3918|[[1969, 0.998971]...|\n",
      "+-----------------+--------------------+\n",
      "only showing top 20 rows\n",
      "\n"
     ]
    }
   ],
   "source": [
    "print(\"Insert a number of recommendations per drug:\")\n",
    "n = int(input())\n",
    "\n",
    "protein_recs = model.recommendForAllUsers(n)\n",
    "\n",
    "protein_recs.show()"
   ]
  },
  {
   "cell_type": "code",
   "execution_count": 20,
   "metadata": {},
   "outputs": [
    {
     "name": "stdout",
     "output_type": "stream",
     "text": [
      "+-----------------+------------------+----------+\n",
      "|ID_DrugBank_index|Interactor_B_index|    rating|\n",
      "+-----------------+------------------+----------+\n",
      "|             1580|              2041|  2.622497|\n",
      "|             1580|              3530|  2.332521|\n",
      "|             1580|                 3| 2.0062866|\n",
      "|             1580|               438| 1.9677861|\n",
      "|             1580|              4883| 1.8595963|\n",
      "|              471|              2041|  8.036676|\n",
      "|              471|              4883| 5.3744254|\n",
      "|              471|              4619|  4.325515|\n",
      "|              471|              3530| 3.8250642|\n",
      "|              471|              5385|  3.784826|\n",
      "|             1591|              2041|  3.810787|\n",
      "|             1591|              4883| 2.6743968|\n",
      "|             1591|              4619| 2.1584466|\n",
      "|             1591|               779| 1.9743415|\n",
      "|             1591|              1171| 1.9649801|\n",
      "|             4101|               935| 0.9972526|\n",
      "|             4101|                55| 0.9798048|\n",
      "|             4101|                 3| 0.7899257|\n",
      "|             4101|                60|0.69854194|\n",
      "|             4101|              1706| 0.6646778|\n",
      "+-----------------+------------------+----------+\n",
      "only showing top 20 rows\n",
      "\n"
     ]
    }
   ],
   "source": [
    "flatDrugRecs = protein_recs.withColumn('proteinAndRating', explode(protein_recs.recommendations)).select('ID_DrugBank_index', 'proteinAndRating.*')\n",
    "\n",
    "flatDrugRecs.show()"
   ]
  },
  {
   "cell_type": "markdown",
   "metadata": {},
   "source": [
    "## 7. CONVERT INDEXES TO ORIGINAL STRING VALUES"
   ]
  },
  {
   "cell_type": "code",
   "execution_count": 21,
   "metadata": {},
   "outputs": [
    {
     "name": "stdout",
     "output_type": "stream",
     "text": [
      "+-----------+----------+----------+\n",
      "|ID_DrugBank|ID_Protein|    rating|\n",
      "+-----------+----------+----------+\n",
      "|    DB12010|    P08238| 43.217953|\n",
      "|    DB12010|    P00533|  26.92041|\n",
      "|    DB12010|    Q16543| 17.765347|\n",
      "|    DB00157|    O75489| 15.584731|\n",
      "|    DB12010|    P61981| 14.615735|\n",
      "|    DB08901|    O75489| 12.472375|\n",
      "|    DB01254|    O75489| 11.172857|\n",
      "|    DB12010|    Q12933| 10.685572|\n",
      "|    DB08515|    Q99436| 10.101418|\n",
      "|    DB00157|    O43678|10.0897665|\n",
      "|    DB15035|    P08238|  9.454764|\n",
      "|    DB03023|    O75489| 9.3503275|\n",
      "|    DB06678|    O75489|  9.260511|\n",
      "|    DB08515|    O14818|  9.253752|\n",
      "|    DB08515|    P25787|  9.098938|\n",
      "|    DB01373|    O75489|  9.082591|\n",
      "|    DB00945|    O75489|  9.059299|\n",
      "|    DB09462|    O75489|  8.984226|\n",
      "|    DB12695|    P08238|  8.804803|\n",
      "|    DB00589|    O75489|  8.661725|\n",
      "+-----------+----------+----------+\n",
      "only showing top 20 rows\n",
      "\n"
     ]
    }
   ],
   "source": [
    "drugString = IndexToString(inputCol='ID_DrugBank_index', outputCol='ID_DrugBank', labels=drugIndexer.labels)\n",
    "proteinString = IndexToString(inputCol='Interactor_B_index', outputCol='ID_Protein', labels=proteinIndexer.labels)\n",
    "\n",
    "convertedDrugRecs = Pipeline(stages=[drugString, proteinString]).fit(indexedDF).transform(flatDrugRecs)\n",
    "convertedDrugRecs = convertedDrugRecs.select(convertedDrugRecs['ID_DrugBank'], convertedDrugRecs['ID_Protein'], convertedDrugRecs['rating'])\n",
    "\n",
    "convertedDrugRecs.select('ID_DrugBank', 'ID_Protein', 'rating').orderBy('rating', ascending=False).show()"
   ]
  },
  {
   "cell_type": "markdown",
   "metadata": {},
   "source": [
    "## 8. VALIDATING RECOMMENDER SYSTEM"
   ]
  },
  {
   "cell_type": "code",
   "execution_count": 22,
   "metadata": {},
   "outputs": [
    {
     "name": "stdout",
     "output_type": "stream",
     "text": [
      "Insert an id_drug: \n",
      "DB12010\n",
      "Recommended Proteins for DB12010\n",
      "+----------+---------+\n",
      "|ID_Protein|   rating|\n",
      "+----------+---------+\n",
      "|    P08238|43.217953|\n",
      "|    P00533| 26.92041|\n",
      "|    Q16543|17.765347|\n",
      "|    P61981|14.615735|\n",
      "|    Q12933|10.685572|\n",
      "+----------+---------+\n",
      "\n",
      "joinedDF\n",
      "+-----------+------------+------------+\n",
      "|ID_DrugBank|Interactor_B|Interactions|\n",
      "+-----------+------------+------------+\n",
      "|    DB12010|      P08238|          47|\n",
      "|    DB12010|      P00533|          31|\n",
      "|    DB12010|      Q16543|          19|\n",
      "|    DB12010|      P63104|          18|\n",
      "|    DB12010|      P61981|          15|\n",
      "|    DB12010|      P62993|          14|\n",
      "|    DB12010|      Q12933|          11|\n",
      "|    DB12010|      Q04917|          11|\n",
      "|    DB12010|      P12931|          11|\n",
      "|    DB12010|      P31946|          10|\n",
      "|    DB12010|      P27986|          10|\n",
      "|    DB12010|      P46108|           9|\n",
      "|    DB12010|      P31947|           9|\n",
      "|    DB12010|      P19174|           9|\n",
      "|    DB12010|      P07900|           9|\n",
      "|    DB12010|      P04626|           9|\n",
      "|    DB12010|      Q06124|           8|\n",
      "|    DB12010|      P22681|           8|\n",
      "|    DB12010|      P04637|           8|\n",
      "|    DB12010|      Q5S007|           7|\n",
      "+-----------+------------+------------+\n",
      "only showing top 20 rows\n",
      "\n"
     ]
    }
   ],
   "source": [
    "print(\"Insert an id_drug: \")\n",
    "id_drug = input()\n",
    "\n",
    "print('Recommended Proteins for {0}'.format(id_drug))\n",
    "convertedDrugRecs.filter(convertedDrugRecs.ID_DrugBank.isin(id_drug)).select(convertedDrugRecs['ID_Protein'], convertedDrugRecs['rating']).show(n)\n",
    "\n",
    "print('joinedDF')\n",
    "joinedDF.filter(joinedDF.ID_DrugBank.isin(id_drug)).orderBy('Interactions', 'Interactor_B', ascending=False).show()"
   ]
  },
  {
   "cell_type": "code",
   "execution_count": null,
   "metadata": {},
   "outputs": [],
   "source": []
  }
 ],
 "metadata": {
  "kernelspec": {
   "display_name": "Python 3",
   "language": "python",
   "name": "python3"
  },
  "language_info": {
   "codemirror_mode": {
    "name": "ipython",
    "version": 3
   },
   "file_extension": ".py",
   "mimetype": "text/x-python",
   "name": "python",
   "nbconvert_exporter": "python",
   "pygments_lexer": "ipython3",
   "version": "3.7.6"
  }
 },
 "nbformat": 4,
 "nbformat_minor": 4
}
